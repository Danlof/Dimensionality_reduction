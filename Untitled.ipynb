{
 "cells": [
  {
   "cell_type": "code",
   "execution_count": 1,
   "id": "711a8257",
   "metadata": {},
   "outputs": [
    {
     "data": {
      "text/html": [
       "<div>\n",
       "<style scoped>\n",
       "    .dataframe tbody tr th:only-of-type {\n",
       "        vertical-align: middle;\n",
       "    }\n",
       "\n",
       "    .dataframe tbody tr th {\n",
       "        vertical-align: top;\n",
       "    }\n",
       "\n",
       "    .dataframe thead th {\n",
       "        text-align: right;\n",
       "    }\n",
       "</style>\n",
       "<table border=\"1\" class=\"dataframe\">\n",
       "  <thead>\n",
       "    <tr style=\"text-align: right;\">\n",
       "      <th></th>\n",
       "      <th>Alcohol</th>\n",
       "      <th>Malic_Acid</th>\n",
       "      <th>Ash</th>\n",
       "      <th>Ash_Alcanity</th>\n",
       "      <th>Magnesium</th>\n",
       "      <th>Total_Phenols</th>\n",
       "      <th>Flavanoids</th>\n",
       "      <th>Nonflavanoid_Phenols</th>\n",
       "      <th>Proanthocyanins</th>\n",
       "      <th>Color_Intensity</th>\n",
       "      <th>Hue</th>\n",
       "      <th>OD280</th>\n",
       "      <th>Proline</th>\n",
       "    </tr>\n",
       "  </thead>\n",
       "  <tbody>\n",
       "    <tr>\n",
       "      <th>0</th>\n",
       "      <td>14.23</td>\n",
       "      <td>1.71</td>\n",
       "      <td>2.43</td>\n",
       "      <td>15.6</td>\n",
       "      <td>127</td>\n",
       "      <td>2.80</td>\n",
       "      <td>3.06</td>\n",
       "      <td>0.28</td>\n",
       "      <td>2.29</td>\n",
       "      <td>5.64</td>\n",
       "      <td>1.04</td>\n",
       "      <td>3.92</td>\n",
       "      <td>1065</td>\n",
       "    </tr>\n",
       "    <tr>\n",
       "      <th>1</th>\n",
       "      <td>13.20</td>\n",
       "      <td>1.78</td>\n",
       "      <td>2.14</td>\n",
       "      <td>11.2</td>\n",
       "      <td>100</td>\n",
       "      <td>2.65</td>\n",
       "      <td>2.76</td>\n",
       "      <td>0.26</td>\n",
       "      <td>1.28</td>\n",
       "      <td>4.38</td>\n",
       "      <td>1.05</td>\n",
       "      <td>3.40</td>\n",
       "      <td>1050</td>\n",
       "    </tr>\n",
       "    <tr>\n",
       "      <th>2</th>\n",
       "      <td>13.16</td>\n",
       "      <td>2.36</td>\n",
       "      <td>2.67</td>\n",
       "      <td>18.6</td>\n",
       "      <td>101</td>\n",
       "      <td>2.80</td>\n",
       "      <td>3.24</td>\n",
       "      <td>0.30</td>\n",
       "      <td>2.81</td>\n",
       "      <td>5.68</td>\n",
       "      <td>1.03</td>\n",
       "      <td>3.17</td>\n",
       "      <td>1185</td>\n",
       "    </tr>\n",
       "    <tr>\n",
       "      <th>3</th>\n",
       "      <td>14.37</td>\n",
       "      <td>1.95</td>\n",
       "      <td>2.50</td>\n",
       "      <td>16.8</td>\n",
       "      <td>113</td>\n",
       "      <td>3.85</td>\n",
       "      <td>3.49</td>\n",
       "      <td>0.24</td>\n",
       "      <td>2.18</td>\n",
       "      <td>7.80</td>\n",
       "      <td>0.86</td>\n",
       "      <td>3.45</td>\n",
       "      <td>1480</td>\n",
       "    </tr>\n",
       "    <tr>\n",
       "      <th>4</th>\n",
       "      <td>13.24</td>\n",
       "      <td>2.59</td>\n",
       "      <td>2.87</td>\n",
       "      <td>21.0</td>\n",
       "      <td>118</td>\n",
       "      <td>2.80</td>\n",
       "      <td>2.69</td>\n",
       "      <td>0.39</td>\n",
       "      <td>1.82</td>\n",
       "      <td>4.32</td>\n",
       "      <td>1.04</td>\n",
       "      <td>2.93</td>\n",
       "      <td>735</td>\n",
       "    </tr>\n",
       "  </tbody>\n",
       "</table>\n",
       "</div>"
      ],
      "text/plain": [
       "   Alcohol  Malic_Acid   Ash  Ash_Alcanity  Magnesium  Total_Phenols  \\\n",
       "0    14.23        1.71  2.43          15.6        127           2.80   \n",
       "1    13.20        1.78  2.14          11.2        100           2.65   \n",
       "2    13.16        2.36  2.67          18.6        101           2.80   \n",
       "3    14.37        1.95  2.50          16.8        113           3.85   \n",
       "4    13.24        2.59  2.87          21.0        118           2.80   \n",
       "\n",
       "   Flavanoids  Nonflavanoid_Phenols  Proanthocyanins  Color_Intensity   Hue  \\\n",
       "0        3.06                  0.28             2.29             5.64  1.04   \n",
       "1        2.76                  0.26             1.28             4.38  1.05   \n",
       "2        3.24                  0.30             2.81             5.68  1.03   \n",
       "3        3.49                  0.24             2.18             7.80  0.86   \n",
       "4        2.69                  0.39             1.82             4.32  1.04   \n",
       "\n",
       "   OD280  Proline  \n",
       "0   3.92     1065  \n",
       "1   3.40     1050  \n",
       "2   3.17     1185  \n",
       "3   3.45     1480  \n",
       "4   2.93      735  "
      ]
     },
     "execution_count": 1,
     "metadata": {},
     "output_type": "execute_result"
    }
   ],
   "source": [
    "import pandas as pd\n",
    "\n",
    "df_wine = pd.read_csv('/media/danlof/dan files/data_science_codes/Dollars/wine-clustering.csv')\n",
    "df_wine.head()"
   ]
  },
  {
   "cell_type": "markdown",
   "id": "386f2da1",
   "metadata": {},
   "source": [
    "### Step 1:"
   ]
  },
  {
   "cell_type": "markdown",
   "id": "644b93f5",
   "metadata": {},
   "source": [
    "- Standardizing the data"
   ]
  },
  {
   "cell_type": "code",
   "execution_count": 2,
   "id": "8cc7f1e0",
   "metadata": {},
   "outputs": [],
   "source": [
    "# divide the data in test and train sets \n",
    "\n",
    "from sklearn.model_selection import train_test_split\n",
    "\n",
    "# this separates the target variables y,and the features X \n",
    "X,y = df_wine.iloc[:,1:].values,df_wine.iloc[:,0].values\n",
    "\n",
    "# it ensures that the class distribution in the target variable y is maintained in both the training and testing subsets.\n",
    "# This is particularly important when dealing with imbalanced datasets, where some classes might have significantly fewer samples than others.\n",
    "X_train, X_test, y_train, y_test = train_test_split(X, y, \n",
    "                                                 test_size=0.3,\n",
    "                                                 random_state=0)\n"
   ]
  },
  {
   "cell_type": "code",
   "execution_count": 9,
   "id": "06c94990",
   "metadata": {},
   "outputs": [
    {
     "data": {
      "text/plain": [
       "0    14.23\n",
       "1    13.20\n",
       "2    13.16\n",
       "3    14.37\n",
       "4    13.24\n",
       "Name: Alcohol, dtype: float64"
      ]
     },
     "execution_count": 9,
     "metadata": {},
     "output_type": "execute_result"
    }
   ],
   "source": [
    "df_wine.iloc[:,0].head()"
   ]
  },
  {
   "cell_type": "markdown",
   "id": "df8fe72b",
   "metadata": {},
   "source": [
    "a . Start with standardizing features"
   ]
  },
  {
   "cell_type": "code",
   "execution_count": 3,
   "id": "5dd94468",
   "metadata": {},
   "outputs": [],
   "source": [
    "from sklearn.preprocessing import StandardScaler\n",
    "\n",
    "sc= StandardScaler()\n",
    "X_train_std=sc.fit_transform(X_train)\n",
    "X_test_std=sc.fit_transform(X_test)"
   ]
  },
  {
   "cell_type": "markdown",
   "id": "d87a097e",
   "metadata": {},
   "source": [
    "### Step 3"
   ]
  },
  {
   "cell_type": "markdown",
   "id": "cdd34fd5",
   "metadata": {},
   "source": [
    "- Obtaining the eigenpairs"
   ]
  },
  {
   "cell_type": "code",
   "execution_count": 10,
   "id": "e88f962c",
   "metadata": {},
   "outputs": [
    {
     "name": "stdout",
     "output_type": "stream",
     "text": [
      "\n",
      "eigenvalues \n",
      " [4.81330538 1.93983315 1.40080921 0.97138    0.80990699 0.59025515\n",
      " 0.50623622 0.08492038 0.31527124 0.17852104 0.23995522 0.24716698]\n"
     ]
    },
    {
     "data": {
      "text/plain": [
       "array([[-0.25625253,  0.26200047,  0.10646468, -0.2583145 ,  0.55497537,\n",
       "        -0.14572966,  0.61738903, -0.02254516, -0.25187906, -0.01029238,\n",
       "        -0.08747617, -0.07426924],\n",
       "       [-0.04358167,  0.39376443,  0.60470142,  0.04793489, -0.32042975,\n",
       "        -0.15792186,  0.03972892,  0.10408464,  0.20600076, -0.02991902,\n",
       "        -0.45350616,  0.29336463],\n",
       "       [-0.25004433, -0.01661097,  0.59912362,  0.16990754,  0.06258293,\n",
       "        -0.08570294, -0.32133371, -0.06560573, -0.40901856,  0.0815409 ,\n",
       "         0.48662842, -0.14075094],\n",
       "       [ 0.11261336,  0.34855056, -0.03297467,  0.79323821,  0.15396906,\n",
       "         0.19566274,  0.21969424, -0.09180492,  0.22142985, -0.07490168,\n",
       "         0.11548532, -0.2210298 ],\n",
       "       [ 0.38666269,  0.16769349,  0.15440774, -0.24564265,  0.05326493,\n",
       "        -0.0173353 , -0.02297192,  0.42926997,  0.22734508,  0.48137297,\n",
       "         0.09651439, -0.50747411],\n",
       "       [ 0.42500892,  0.07377778,  0.13201636, -0.1673688 ,  0.04211422,\n",
       "        -0.07722997, -0.05568549, -0.84518811,  0.01223132,  0.13881476,\n",
       "        -0.09999155, -0.11783156],\n",
       "       [-0.30950035, -0.01789281,  0.20365556, -0.30417782, -0.19050444,\n",
       "         0.7162415 ,  0.19581559, -0.16734857,  0.31746603, -0.05641132,\n",
       "         0.20040371, -0.10058809],\n",
       "       [ 0.3099499 ,  0.14889338,  0.09805322, -0.0528337 ,  0.51773188,\n",
       "         0.51512296, -0.35177461,  0.15045592, -0.15798588, -0.04831241,\n",
       "        -0.14138213,  0.37721761],\n",
       "       [-0.13036346,  0.56850253, -0.24642129, -0.1995663 , -0.16172873,\n",
       "         0.03282484, -0.34701418, -0.00397628, -0.2218616 , -0.42046995,\n",
       "        -0.11380597, -0.41547856],\n",
       "       [ 0.3157913 , -0.29079601,  0.16027308,  0.12136211, -0.30241325,\n",
       "         0.28273622,  0.31474362,  0.11469789, -0.56303453, -0.13131479,\n",
       "        -0.30128924, -0.25818204],\n",
       "       [ 0.37945308, -0.14181488,  0.23305971, -0.15560277,  0.1036623 ,\n",
       "        -0.20488184,  0.10719104,  0.11226636,  0.24738856, -0.71961239,\n",
       "         0.31827317, -0.01475974],\n",
       "       [ 0.272998  ,  0.41306095, -0.17285022, -0.10219868, -0.3527027 ,\n",
       "         0.02413105,  0.26275745,  0.02987511, -0.2697816 ,  0.13547468,\n",
       "         0.50204312,  0.42003891]])"
      ]
     },
     "execution_count": 10,
     "metadata": {},
     "output_type": "execute_result"
    }
   ],
   "source": [
    "import numpy as np\n",
    "\n",
    "cov_mat = np.cov(X_train_std.T)\n",
    "\n",
    "eigen_vals,eigen_vecs = np.linalg.eig(cov_mat)\n",
    "\n",
    "print('\\neigenvalues \\n', eigen_vals)\n",
    "eigen_vecs"
   ]
  },
  {
   "cell_type": "markdown",
   "id": "684d5f77",
   "metadata": {},
   "source": [
    "- since we got the principle components(eigenvectors), we are going to take the k most important onces that carry most of the information.\n",
    "- We sort their magnitudes (eigenvalues) in decreasing order."
   ]
  },
  {
   "cell_type": "code",
   "execution_count": 16,
   "id": "dae83633",
   "metadata": {},
   "outputs": [
    {
     "data": {
      "text/plain": [
       "<function matplotlib.pyplot.show(close=None, block=None)>"
      ]
     },
     "execution_count": 16,
     "metadata": {},
     "output_type": "execute_result"
    },
    {
     "data": {
      "image/png": "[encoded data removed]",
      "text/plain": [
       "<Figure size 640x480 with 1 Axes>"
      ]
     },
     "metadata": {},
     "output_type": "display_data"
    }
   ],
   "source": [
    "# calculating the cumulative sums of of explained variances \n",
    "\n",
    "tot=sum(eigen_vals)\n",
    "var_exp = [(i/tot) for i in sorted(eigen_vals,reverse = True)]\n",
    "\n",
    "cum_var_exp=np.cumsum(var_exp)\n",
    "\n",
    "import matplotlib.pyplot as plt\n",
    "\n",
    "plt.bar(range(1, 13), var_exp, align='center', label='Individual explained variance')\n",
    "plt.step(range(1,13),cum_var_exp,where='mid',label='Cummulative Explained Variance')\n",
    "\n",
    "plt.ylabel('Explained variance ratio')\n",
    "plt.xlabel('Principle component index')\n",
    "plt.legend(loc='best')\n",
    "plt.tight_layout()\n",
    "plt.show\n"
   ]
  },
  {
   "cell_type": "code",
   "execution_count": null,
   "id": "87125d3b",
   "metadata": {},
   "outputs": [],
   "source": []
  }
 ],
 "metadata": {
  "kernelspec": {
   "display_name": "Python 3 (ipykernel)",
   "language": "python",
   "name": "python3"
  },
  "language_info": {
   "codemirror_mode": {
    "name": "ipython",
    "version": 3
   },
   "file_extension": ".py",
   "mimetype": "text/x-python",
   "name": "python",
   "nbconvert_exporter": "python",
   "pygments_lexer": "ipython3",
   "version": "3.9.13"
  }
 },
 "nbformat": 4,
 "nbformat_minor": 5
}
