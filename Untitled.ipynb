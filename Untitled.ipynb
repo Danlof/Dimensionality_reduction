{
 "cells": [
  {
   "cell_type": "code",
   "execution_count": 30,
   "id": "711a8257",
   "metadata": {},
   "outputs": [
    {
     "data": {
      "text/html": [
       "<div>\n",
       "<style scoped>\n",
       "    .dataframe tbody tr th:only-of-type {\n",
       "        vertical-align: middle;\n",
       "    }\n",
       "\n",
       "    .dataframe tbody tr th {\n",
       "        vertical-align: top;\n",
       "    }\n",
       "\n",
       "    .dataframe thead th {\n",
       "        text-align: right;\n",
       "    }\n",
       "</style>\n",
       "<table border=\"1\" class=\"dataframe\">\n",
       "  <thead>\n",
       "    <tr style=\"text-align: right;\">\n",
       "      <th></th>\n",
       "      <th>0</th>\n",
       "      <th>1</th>\n",
       "      <th>2</th>\n",
       "      <th>3</th>\n",
       "      <th>4</th>\n",
       "      <th>5</th>\n",
       "      <th>6</th>\n",
       "      <th>7</th>\n",
       "      <th>8</th>\n",
       "      <th>9</th>\n",
       "      <th>10</th>\n",
       "      <th>11</th>\n",
       "      <th>12</th>\n",
       "      <th>13</th>\n",
       "    </tr>\n",
       "  </thead>\n",
       "  <tbody>\n",
       "    <tr>\n",
       "      <th>0</th>\n",
       "      <td>1</td>\n",
       "      <td>14.23</td>\n",
       "      <td>1.71</td>\n",
       "      <td>2.43</td>\n",
       "      <td>15.6</td>\n",
       "      <td>127</td>\n",
       "      <td>2.80</td>\n",
       "      <td>3.06</td>\n",
       "      <td>0.28</td>\n",
       "      <td>2.29</td>\n",
       "      <td>5.64</td>\n",
       "      <td>1.04</td>\n",
       "      <td>3.92</td>\n",
       "      <td>1065</td>\n",
       "    </tr>\n",
       "    <tr>\n",
       "      <th>1</th>\n",
       "      <td>1</td>\n",
       "      <td>13.20</td>\n",
       "      <td>1.78</td>\n",
       "      <td>2.14</td>\n",
       "      <td>11.2</td>\n",
       "      <td>100</td>\n",
       "      <td>2.65</td>\n",
       "      <td>2.76</td>\n",
       "      <td>0.26</td>\n",
       "      <td>1.28</td>\n",
       "      <td>4.38</td>\n",
       "      <td>1.05</td>\n",
       "      <td>3.40</td>\n",
       "      <td>1050</td>\n",
       "    </tr>\n",
       "    <tr>\n",
       "      <th>2</th>\n",
       "      <td>1</td>\n",
       "      <td>13.16</td>\n",
       "      <td>2.36</td>\n",
       "      <td>2.67</td>\n",
       "      <td>18.6</td>\n",
       "      <td>101</td>\n",
       "      <td>2.80</td>\n",
       "      <td>3.24</td>\n",
       "      <td>0.30</td>\n",
       "      <td>2.81</td>\n",
       "      <td>5.68</td>\n",
       "      <td>1.03</td>\n",
       "      <td>3.17</td>\n",
       "      <td>1185</td>\n",
       "    </tr>\n",
       "    <tr>\n",
       "      <th>3</th>\n",
       "      <td>1</td>\n",
       "      <td>14.37</td>\n",
       "      <td>1.95</td>\n",
       "      <td>2.50</td>\n",
       "      <td>16.8</td>\n",
       "      <td>113</td>\n",
       "      <td>3.85</td>\n",
       "      <td>3.49</td>\n",
       "      <td>0.24</td>\n",
       "      <td>2.18</td>\n",
       "      <td>7.80</td>\n",
       "      <td>0.86</td>\n",
       "      <td>3.45</td>\n",
       "      <td>1480</td>\n",
       "    </tr>\n",
       "    <tr>\n",
       "      <th>4</th>\n",
       "      <td>1</td>\n",
       "      <td>13.24</td>\n",
       "      <td>2.59</td>\n",
       "      <td>2.87</td>\n",
       "      <td>21.0</td>\n",
       "      <td>118</td>\n",
       "      <td>2.80</td>\n",
       "      <td>2.69</td>\n",
       "      <td>0.39</td>\n",
       "      <td>1.82</td>\n",
       "      <td>4.32</td>\n",
       "      <td>1.04</td>\n",
       "      <td>2.93</td>\n",
       "      <td>735</td>\n",
       "    </tr>\n",
       "  </tbody>\n",
       "</table>\n",
       "</div>"
      ],
      "text/plain": [
       "   0      1     2     3     4    5     6     7     8     9     10    11    12  \\\n",
       "0   1  14.23  1.71  2.43  15.6  127  2.80  3.06  0.28  2.29  5.64  1.04  3.92   \n",
       "1   1  13.20  1.78  2.14  11.2  100  2.65  2.76  0.26  1.28  4.38  1.05  3.40   \n",
       "2   1  13.16  2.36  2.67  18.6  101  2.80  3.24  0.30  2.81  5.68  1.03  3.17   \n",
       "3   1  14.37  1.95  2.50  16.8  113  3.85  3.49  0.24  2.18  7.80  0.86  3.45   \n",
       "4   1  13.24  2.59  2.87  21.0  118  2.80  2.69  0.39  1.82  4.32  1.04  2.93   \n",
       "\n",
       "     13  \n",
       "0  1065  \n",
       "1  1050  \n",
       "2  1185  \n",
       "3  1480  \n",
       "4   735  "
      ]
     },
     "execution_count": 30,
     "metadata": {},
     "output_type": "execute_result"
    }
   ],
   "source": [
    "import pandas as pd\n",
    "\n",
    "df_wine = pd.read_csv('https://archive.ics.uci.edu/ml/machine-learning-databases/wine/wine.data',\n",
    "header=None)\n",
    "df_wine.head()"
   ]
  },
  {
   "cell_type": "markdown",
   "id": "386f2da1",
   "metadata": {},
   "source": [
    "### Step 1:"
   ]
  },
  {
   "cell_type": "markdown",
   "id": "644b93f5",
   "metadata": {},
   "source": [
    "- Standardizing the data"
   ]
  },
  {
   "cell_type": "code",
   "execution_count": 31,
   "id": "8cc7f1e0",
   "metadata": {},
   "outputs": [],
   "source": [
    "# divide the data in test and train sets \n",
    "\n",
    "from sklearn.model_selection import train_test_split\n",
    "\n",
    "# this separates the target variables y,and the features X \n",
    "X,y = df_wine.iloc[:,1:].values,df_wine.iloc[:,0].values\n",
    "\n",
    "# it ensures that the class distribution in the target variable y is maintained in both the training and testing subsets.\n",
    "# This is particularly important when dealing with imbalanced datasets, where some classes might have significantly fewer samples than others.\n",
    "X_train, X_test, y_train, y_test = train_test_split(X, y, \n",
    "                                                 test_size=0.3,stratify=y,\n",
    "                                                 random_state=0)\n"
   ]
  },
  {
   "cell_type": "code",
   "execution_count": 32,
   "id": "06c94990",
   "metadata": {},
   "outputs": [
    {
     "ename": "AttributeError",
     "evalue": "'numpy.ndarray' object has no attribute 'head'",
     "output_type": "error",
     "traceback": [
      "\u001b[0;31m---------------------------------------------------------------------------\u001b[0m",
      "\u001b[0;31mAttributeError\u001b[0m                            Traceback (most recent call last)",
      "\u001b[0;32m/tmp/ipykernel_2753/2260135210.py\u001b[0m in \u001b[0;36m<module>\u001b[0;34m\u001b[0m\n\u001b[0;32m----> 1\u001b[0;31m \u001b[0my_train\u001b[0m\u001b[0;34m.\u001b[0m\u001b[0mhead\u001b[0m\u001b[0;34m(\u001b[0m\u001b[0;34m)\u001b[0m\u001b[0;34m\u001b[0m\u001b[0;34m\u001b[0m\u001b[0m\n\u001b[0m",
      "\u001b[0;31mAttributeError\u001b[0m: 'numpy.ndarray' object has no attribute 'head'"
     ]
    }
   ],
   "source": []
  },
  {
   "cell_type": "markdown",
   "id": "df8fe72b",
   "metadata": {},
   "source": [
    "a . Start with standardizing features"
   ]
  },
  {
   "cell_type": "code",
   "execution_count": 33,
   "id": "5dd94468",
   "metadata": {},
   "outputs": [],
   "source": [
    "from sklearn.preprocessing import StandardScaler\n",
    "\n",
    "sc= StandardScaler()\n",
    "X_train_std=sc.fit_transform(X_train)\n",
    "X_test_std=sc.fit_transform(X_test)"
   ]
  },
  {
   "cell_type": "markdown",
   "id": "5608bda8",
   "metadata": {},
   "source": [
    "### Step 3"
   ]
  },
  {
   "cell_type": "markdown",
   "id": "1671a9e5",
   "metadata": {},
   "source": [
    "- Obtaining the eigenpairs"
   ]
  },
  {
   "cell_type": "code",
   "execution_count": 34,
   "id": "a19b3520",
   "metadata": {},
   "outputs": [
    {
     "name": "stdout",
     "output_type": "stream",
     "text": [
      "\n",
      "eigenvalues \n",
      " [4.84274532 2.41602459 1.54845825 0.96120438 0.84166161 0.6620634\n",
      " 0.51828472 0.34650377 0.3131368  0.10754642 0.21357215 0.15362835\n",
      " 0.1808613 ]\n"
     ]
    },
    {
     "data": {
      "text/plain": [
       "array([[-1.37242175e-01,  5.03034778e-01, -1.37748734e-01,\n",
       "        -3.29610003e-03,  2.90625226e-01, -2.99096847e-01,\n",
       "        -7.90529293e-02,  3.68176414e-01,  3.98377017e-01,\n",
       "        -9.44869777e-02,  3.74638877e-01, -1.27834515e-01,\n",
       "         2.62834263e-01],\n",
       "       [ 2.47243265e-01,  1.64871190e-01,  9.61503863e-02,\n",
       "         5.62646692e-01, -8.95378697e-02, -6.27036396e-01,\n",
       "         2.74002014e-01,  1.25775752e-02, -1.10458230e-01,\n",
       "         2.63652406e-02, -1.37405597e-01,  8.06401578e-02,\n",
       "        -2.66769211e-01],\n",
       "       [-2.54515927e-02,  2.44564761e-01,  6.77775667e-01,\n",
       "        -1.08977111e-01,  1.60834991e-01, -3.89128239e-04,\n",
       "        -1.32328045e-01, -1.77578177e-01, -3.82496856e-01,\n",
       "         1.42747511e-01,  4.61583035e-01,  1.67924873e-02,\n",
       "        -1.15542548e-01],\n",
       "       [ 2.06945084e-01, -1.13529045e-01,  6.25040550e-01,\n",
       "         3.38187002e-02, -5.15873402e-02,  4.05836452e-02,\n",
       "        -2.23999097e-01,  4.40592110e-01,  2.43373853e-01,\n",
       "        -1.30485780e-01, -4.18953989e-01, -1.10845657e-01,\n",
       "         1.99483410e-01],\n",
       "       [-1.54365821e-01,  2.89745182e-01,  1.96135481e-01,\n",
       "        -3.67511070e-01, -6.76487073e-01, -6.57772614e-02,\n",
       "         4.05268966e-01, -1.16617503e-01,  2.58982359e-01,\n",
       "        -6.76080782e-02,  1.00470630e-02,  7.93879562e-02,\n",
       "         2.89018810e-02],\n",
       "       [-3.93769523e-01,  5.08010391e-02,  1.40310572e-01,\n",
       "         2.40245127e-01,  1.18511144e-01,  5.89776247e-02,\n",
       "         3.47419412e-02, -3.50192127e-01,  3.42312860e-01,\n",
       "         4.59917661e-01, -2.21254241e-01, -4.91459313e-01,\n",
       "        -6.63868598e-02],\n",
       "       [-4.17351064e-01, -2.28733792e-02,  1.17053859e-01,\n",
       "         1.87053299e-01,  1.07100349e-01,  3.01103180e-02,\n",
       "        -4.17835724e-02, -2.18718183e-01,  3.61231642e-02,\n",
       "        -8.14583947e-01, -4.17513600e-02, -5.03074004e-02,\n",
       "        -2.13349079e-01],\n",
       "       [ 3.05728961e-01,  9.04888470e-02,  1.31217777e-01,\n",
       "        -2.29262234e-02,  5.07581610e-01,  2.71728086e-01,\n",
       "         6.31145686e-01, -1.97129425e-01,  1.71436883e-01,\n",
       "        -9.57480885e-02, -8.87569452e-02,  1.75328030e-01,\n",
       "         1.86391279e-01],\n",
       "       [-3.06683469e-01,  8.35232677e-03,  3.04309008e-02,\n",
       "         4.96262330e-01, -2.01634619e-01,  4.39997519e-01,\n",
       "         3.23122775e-01,  4.33055871e-01, -2.44370210e-01,\n",
       "         6.72468934e-02,  1.99921861e-01, -3.67595797e-03,\n",
       "         1.68082985e-01],\n",
       "       [ 7.55406578e-02,  5.49775805e-01, -7.99299713e-02,\n",
       "         1.06482939e-01, -5.73607091e-03,  4.11743459e-01,\n",
       "        -2.69082623e-01,  6.68411823e-02,  1.55514919e-01,\n",
       "         8.73336218e-02, -2.21668868e-01,  3.59756535e-01,\n",
       "        -4.66369031e-01],\n",
       "       [-3.26132628e-01, -2.07164328e-01,  5.30591506e-02,\n",
       "        -3.69053747e-01,  2.76914216e-01, -1.41673377e-01,\n",
       "         3.02640661e-01,  4.59762295e-01, -2.11961247e-02,\n",
       "         1.29061125e-01, -9.84694573e-02,  4.04669797e-02,\n",
       "        -5.32483880e-01],\n",
       "       [-3.68610222e-01, -2.49025357e-01,  1.32391030e-01,\n",
       "         1.42016088e-01,  6.66275572e-02, -1.75842384e-01,\n",
       "        -1.30540143e-01, -1.10827548e-01,  2.38089559e-01,\n",
       "         1.87646268e-01,  1.91205783e-02,  7.42229543e-01,\n",
       "         2.37835283e-01],\n",
       "       [-2.96696514e-01,  3.80229423e-01, -7.06502178e-02,\n",
       "        -1.67682173e-01,  1.28029045e-01, -1.38018388e-01,\n",
       "        -8.11335043e-04, -5.60817288e-03, -5.17278463e-01,\n",
       "         1.21112574e-02, -5.42532072e-01,  3.87395209e-02,\n",
       "         3.67763359e-01]])"
      ]
     },
     "execution_count": 34,
     "metadata": {},
     "output_type": "execute_result"
    }
   ],
   "source": [
    "import numpy as np\n",
    "\n",
    "cov_mat = np.cov(X_train_std.T)\n",
    "\n",
    "eigen_vals,eigen_vecs = np.linalg.eig(cov_mat)\n",
    "\n",
    "print('\\neigenvalues \\n', eigen_vals)\n",
    "eigen_vecs"
   ]
  },
  {
   "cell_type": "markdown",
   "id": "eb750d39",
   "metadata": {},
   "source": [
    "- since we got the principle components(eigenvectors), we are going to take the k most important ones that carry most of the information.\n",
    "- We sort their magnitudes (eigenvalues) in decreasing order."
   ]
  },
  {
   "cell_type": "code",
   "execution_count": 35,
   "id": "c9609694",
   "metadata": {},
   "outputs": [
    {
     "data": {
      "text/plain": [
       "<function matplotlib.pyplot.show(close=None, block=None)>"
      ]
     },
     "execution_count": 35,
     "metadata": {},
     "output_type": "execute_result"
    },
    {
     "data": {
      "image/png": "[encoded data removed]",
      "text/plain": [
       "<Figure size 640x480 with 1 Axes>"
      ]
     },
     "metadata": {},
     "output_type": "display_data"
    }
   ],
   "source": [
    "# calculating the cumulative sums of of explained variances \n",
    "\n",
    "tot=sum(eigen_vals)\n",
    "var_exp = [(i/tot) for i in sorted(eigen_vals,reverse = True)]\n",
    "\n",
    "cum_var_exp=np.cumsum(var_exp)\n",
    "\n",
    "import matplotlib.pyplot as plt\n",
    "\n",
    "plt.bar(range(1, 14), var_exp, align='center', label='Individual explained variance')\n",
    "plt.step(range(1,14),cum_var_exp,where='mid',label='Cummulative Explained Variance')\n",
    "\n",
    "plt.ylabel('Explained variance ratio')\n",
    "plt.xlabel('Principle component index')\n",
    "plt.legend(loc='best')\n",
    "plt.tight_layout()\n",
    "plt.show\n"
   ]
  },
  {
   "cell_type": "code",
   "execution_count": 36,
   "id": "5c1d181e",
   "metadata": {},
   "outputs": [],
   "source": [
    "#make a list of eigenvalues and eigenvectors as a pair\n",
    "\n",
    "eigen_pairs = [(np.abs(eigen_vals[i]),eigen_vecs[:,i]) for i in range(len(eigen_vals))]\n",
    "\n",
    "#sort the tuple in descending order \n",
    "eigen_pairs.sort(key=lambda k:k[0],reverse=True)"
   ]
  },
  {
   "cell_type": "code",
   "execution_count": 37,
   "id": "77312aa1",
   "metadata": {},
   "outputs": [
    {
     "name": "stdout",
     "output_type": "stream",
     "text": [
      "Matrix w:\n",
      " [[-0.13724218  0.50303478]\n",
      " [ 0.24724326  0.16487119]\n",
      " [-0.02545159  0.24456476]\n",
      " [ 0.20694508 -0.11352904]\n",
      " [-0.15436582  0.28974518]\n",
      " [-0.39376952  0.05080104]\n",
      " [-0.41735106 -0.02287338]\n",
      " [ 0.30572896  0.09048885]\n",
      " [-0.30668347  0.00835233]\n",
      " [ 0.07554066  0.54977581]\n",
      " [-0.32613263 -0.20716433]\n",
      " [-0.36861022 -0.24902536]\n",
      " [-0.29669651  0.38022942]]\n"
     ]
    }
   ],
   "source": [
    "# taking the two largest eigenvectors (the eigenvectors corresponding to the first and second largest absolute eigenvalues) \n",
    "# and stacking them horizontally to create a matrix\n",
    "\n",
    "w = np.hstack((eigen_pairs[0][1][:,np.newaxis],eigen_pairs[1][1][:,np.newaxis]))\n",
    "\n",
    "print('Matrix w:\\n',w)"
   ]
  },
  {
   "cell_type": "code",
   "execution_count": 11,
   "id": "4d4369c1",
   "metadata": {},
   "outputs": [
    {
     "data": {
      "text/plain": [
       "array([ 2.5000799 , -0.26059153])"
      ]
     },
     "execution_count": 11,
     "metadata": {},
     "output_type": "execute_result"
    }
   ],
   "source": [
    "# takes the feature values of the first standardized data point \n",
    "# and projects them onto the lower-dimensional subspace defined by the matrix w\n",
    "\n",
    "X_train_std[0].dot(w)"
   ]
  },
  {
   "cell_type": "code",
   "execution_count": 17,
   "id": "8134ea76",
   "metadata": {},
   "outputs": [
    {
     "data": {
      "text/plain": [
       "array([[ 2.5000799 , -0.26059153],\n",
       "       [ 0.39808813, -2.00786925],\n",
       "       [-2.8379827 ,  2.44459802],\n",
       "       [-2.59674063,  0.09230778],\n",
       "       [ 1.64241124, -1.23334734],\n",
       "       [-2.84785943,  0.28013618],\n",
       "       [-3.07718292,  1.19970155],\n",
       "       [ 1.31402681, -0.24670448],\n",
       "       [-2.48509985, -0.42668599],\n",
       "       [-2.21376414, -0.63006491],\n",
       "       [ 1.37586251, -2.24996017],\n",
       "       [-2.21817218, -1.68446613],\n",
       "       [-2.57712122,  0.34230529],\n",
       "       [ 0.11496617, -2.06664379],\n",
       "       [ 2.46821895,  1.56601024],\n",
       "       [-0.49968348, -3.49360142],\n",
       "       [ 2.59348399,  0.97512539],\n",
       "       [-0.35403282,  0.34306922],\n",
       "       [ 0.48904095,  0.36405627],\n",
       "       [ 3.33407028,  1.22168341],\n",
       "       [ 1.89361851, -0.26272271],\n",
       "       [ 2.58572723,  0.82825984],\n",
       "       [-3.64014963,  0.42007811],\n",
       "       [-1.81354023,  2.23774962],\n",
       "       [ 1.81681054, -0.02724808],\n",
       "       [ 0.25480878, -1.6679617 ],\n",
       "       [ 0.16677607, -2.41971403],\n",
       "       [-2.61251084,  2.24993943],\n",
       "       [-3.02442659, -0.30568195],\n",
       "       [ 3.28286835,  0.61833091],\n",
       "       [-3.67570027,  1.44592966],\n",
       "       [-0.18537113, -2.3990553 ],\n",
       "       [-0.36423195, -1.72242317],\n",
       "       [-1.02827348, -0.25702787],\n",
       "       [ 1.29743867, -0.33480155],\n",
       "       [ 2.18589082, -0.89250127],\n",
       "       [ 2.53684319,  1.66522119],\n",
       "       [ 1.83591791,  0.99086928],\n",
       "       [ 0.99914829, -1.993423  ],\n",
       "       [ 3.19698761,  0.61302873],\n",
       "       [-3.74549507,  0.13763533],\n",
       "       [ 1.75460153, -0.2694382 ],\n",
       "       [-3.62830438, -0.04415989],\n",
       "       [ 2.9577792 ,  0.59821006],\n",
       "       [ 2.16124041,  1.71082421],\n",
       "       [ 1.41607008, -0.31059355],\n",
       "       [ 3.37230863,  1.7768084 ],\n",
       "       [ 1.18523747, -2.03604884],\n",
       "       [ 0.59460919, -2.53935067],\n",
       "       [ 3.48012054,  2.75386195],\n",
       "       [-2.53168616,  2.00394728],\n",
       "       [-1.44923954, -1.56845911],\n",
       "       [ 2.23559544,  0.65918103],\n",
       "       [-0.78411676, -0.77658538],\n",
       "       [-0.45687363, -2.10014179],\n",
       "       [ 1.11183484, -0.63323532],\n",
       "       [-1.2546729 , -0.05483059],\n",
       "       [ 2.05095087,  0.49930532],\n",
       "       [-3.8689628 ,  0.63170083],\n",
       "       [-1.89242322,  1.4839925 ],\n",
       "       [ 4.05594258,  2.05261847],\n",
       "       [ 3.07002217,  1.23513768],\n",
       "       [-1.29434237, -1.62984266],\n",
       "       [-2.89313507,  1.81150657],\n",
       "       [ 2.54745288,  0.88297282],\n",
       "       [ 1.64190754,  0.05095732],\n",
       "       [-0.18840393, -1.82606883],\n",
       "       [ 0.05903888, -0.78852824],\n",
       "       [ 1.88934199,  0.18649922],\n",
       "       [ 2.12801508,  1.4961396 ],\n",
       "       [ 0.72722452,  0.03051384],\n",
       "       [-3.54165577,  1.53605675],\n",
       "       [ 1.0661561 , -0.24045478],\n",
       "       [ 2.29299394, -0.33781472],\n",
       "       [ 1.11503635, -0.26225834],\n",
       "       [-2.41916049, -0.18891581],\n",
       "       [ 2.95620609,  1.17899168],\n",
       "       [-1.56073494, -1.7669952 ],\n",
       "       [-2.84949619, -0.06384182],\n",
       "       [-2.65736497,  0.19807745],\n",
       "       [ 1.73258038,  1.55054082],\n",
       "       [ 1.64005804, -0.81377944],\n",
       "       [-2.02857562,  0.29696661],\n",
       "       [ 2.04593984,  1.87066976],\n",
       "       [-2.32832165,  0.11717458],\n",
       "       [-0.20991616, -1.68032225],\n",
       "       [ 1.34117757,  0.61704281],\n",
       "       [ 2.04325846,  0.56706701],\n",
       "       [-0.18534699, -1.55525245],\n",
       "       [ 2.60169439,  1.60938086],\n",
       "       [-2.9784667 ,  1.7819452 ],\n",
       "       [-1.33239139, -0.55528634],\n",
       "       [-3.35300175,  1.38672615],\n",
       "       [ 1.57578962, -0.19482442],\n",
       "       [-3.06014303, -0.2673671 ],\n",
       "       [-2.50049848,  1.97590676],\n",
       "       [-3.5697093 ,  1.01840091],\n",
       "       [ 2.16901229, -0.20387532],\n",
       "       [ 1.68990561, -1.52172223],\n",
       "       [-0.16958418, -2.0872931 ],\n",
       "       [ 0.53271131, -0.68381614],\n",
       "       [ 1.03157355, -2.85286039],\n",
       "       [-2.88159088,  1.13016079],\n",
       "       [-3.51139296,  1.96650616],\n",
       "       [-0.64726029, -1.66471488],\n",
       "       [-1.1614251 , -1.04797668],\n",
       "       [ 0.8893619 ,  1.34681427],\n",
       "       [ 1.23849616, -1.28870709],\n",
       "       [-2.91822545,  1.02039453],\n",
       "       [-2.56195097,  2.39761555],\n",
       "       [ 2.28055132,  1.64814549],\n",
       "       [ 3.02308884,  1.94682278],\n",
       "       [-2.7666406 , -0.08262219],\n",
       "       [-0.75847773, -1.22777282],\n",
       "       [-1.35880068, -0.8605264 ],\n",
       "       [-0.19906092, -1.76349922],\n",
       "       [ 1.32729703,  0.73595352],\n",
       "       [ 1.1136858 ,  0.60928866],\n",
       "       [ 2.66077007,  0.65163236],\n",
       "       [-0.21976947, -2.29472388],\n",
       "       [ 0.51645917, -2.38340522],\n",
       "       [ 0.13604029, -1.76507668],\n",
       "       [ 2.74971567,  0.52568891],\n",
       "       [-2.72347655,  1.23130076]])"
      ]
     },
     "execution_count": 17,
     "metadata": {},
     "output_type": "execute_result"
    }
   ],
   "source": [
    "# similarly transforming the entire features from the x_train_std \n",
    "\n",
    "X_train_pca=X_train_std.dot(w)\n",
    "X_train_pca"
   ]
  },
  {
   "cell_type": "code",
   "execution_count": 27,
   "id": "b3d504ff",
   "metadata": {},
   "outputs": [
    {
     "data": {
      "image/png": "[encoded data removed]",
      "text/plain": [
       "<Figure size 640x480 with 1 Axes>"
      ]
     },
     "metadata": {},
     "output_type": "display_data"
    }
   ],
   "source": [
    "# visulization of the transformed wine dataset\n",
    "\n",
    "colors = ['r', 'b', 'g']\n",
    "markers = ['o', 's', '^']\n",
    "\n",
    "for l, c, m in zip(np.unique(y_train), colors, markers):\n",
    "    plt.scatter(X_train_pca[y_train==l, 0],\n",
    "                X_train_pca[y_train==l, 1],\n",
    "                c=c, label=f'Class {l}',\n",
    "                marker=m)\n",
    "    \n",
    "plt.xlabel('PC 1')\n",
    "plt.ylabel('PC 2')\n",
    "plt.legend(loc='lower left')\n",
    "plt.tight_layout()\n",
    "plt.show()"
   ]
  },
  {
   "cell_type": "code",
   "execution_count": null,
   "id": "a8734729",
   "metadata": {},
   "outputs": [],
   "source": []
  },
  {
   "cell_type": "code",
   "execution_count": null,
   "id": "97567e3a",
   "metadata": {},
   "outputs": [],
   "source": []
  }
 ],
 "metadata": {
  "kernelspec": {
   "display_name": "Python 3 (ipykernel)",
   "language": "python",
   "name": "python3"
  },
  "language_info": {
   "codemirror_mode": {
    "name": "ipython",
    "version": 3
   },
   "file_extension": ".py",
   "mimetype": "text/x-python",
   "name": "python",
   "nbconvert_exporter": "python",
   "pygments_lexer": "ipython3",
   "version": "3.9.13"
  }
 },
 "nbformat": 4,
 "nbformat_minor": 5
}
