{
 "cells": [
  {
   "cell_type": "markdown",
   "id": "34877e64",
   "metadata": {},
   "source": [
    "#### Breast cancer classification into different subtypes "
   ]
  },
  {
   "cell_type": "markdown",
   "id": "4478fb99",
   "metadata": {},
   "source": [
    "##### Introduction "
   ]
  },
  {
   "cell_type": "markdown",
   "id": "37b94761",
   "metadata": {},
   "source": [
    "- This is one of the many datasets from Curated Microarray Database (CuMiDa),solely for machine learning.\n",
    "- The dataset below is a breat cancer gene expression dataset containing the following:\n",
    "\n",
    "    - 6 classes\n",
    "    - 54676 genes\n",
    "    - 151 samples\n"
   ]
  },
  {
   "cell_type": "code",
   "execution_count": 1,
   "id": "2c4db3b3",
   "metadata": {},
   "outputs": [],
   "source": [
    "import pandas as pd\n",
    "import numpy as np\n",
    "import seaborn as sns\n",
    "import matplotlib.pyplot as plt"
   ]
  },
  {
   "cell_type": "code",
   "execution_count": 2,
   "id": "4b637663",
   "metadata": {
    "scrolled": false
   },
   "outputs": [
    {
     "data": {
      "text/html": [
       "<div>\n",
       "<style scoped>\n",
       "    .dataframe tbody tr th:only-of-type {\n",
       "        vertical-align: middle;\n",
       "    }\n",
       "\n",
       "    .dataframe tbody tr th {\n",
       "        vertical-align: top;\n",
       "    }\n",
       "\n",
       "    .dataframe thead th {\n",
       "        text-align: right;\n",
       "    }\n",
       "</style>\n",
       "<table border=\"1\" class=\"dataframe\">\n",
       "  <thead>\n",
       "    <tr style=\"text-align: right;\">\n",
       "      <th></th>\n",
       "      <th>samples</th>\n",
       "      <th>type</th>\n",
       "      <th>1007_s_at</th>\n",
       "      <th>1053_at</th>\n",
       "      <th>117_at</th>\n",
       "      <th>121_at</th>\n",
       "      <th>1255_g_at</th>\n",
       "      <th>1294_at</th>\n",
       "      <th>1316_at</th>\n",
       "      <th>1320_at</th>\n",
       "      <th>...</th>\n",
       "      <th>AFFX-r2-Ec-bioD-3_at</th>\n",
       "      <th>AFFX-r2-Ec-bioD-5_at</th>\n",
       "      <th>AFFX-r2-P1-cre-3_at</th>\n",
       "      <th>AFFX-r2-P1-cre-5_at</th>\n",
       "      <th>AFFX-ThrX-3_at</th>\n",
       "      <th>AFFX-ThrX-5_at</th>\n",
       "      <th>AFFX-ThrX-M_at</th>\n",
       "      <th>AFFX-TrpnX-3_at</th>\n",
       "      <th>AFFX-TrpnX-5_at</th>\n",
       "      <th>AFFX-TrpnX-M_at</th>\n",
       "    </tr>\n",
       "  </thead>\n",
       "  <tbody>\n",
       "    <tr>\n",
       "      <th>0</th>\n",
       "      <td>84</td>\n",
       "      <td>basal</td>\n",
       "      <td>9.850040</td>\n",
       "      <td>8.097927</td>\n",
       "      <td>6.424728</td>\n",
       "      <td>7.353027</td>\n",
       "      <td>3.029122</td>\n",
       "      <td>6.880079</td>\n",
       "      <td>4.963740</td>\n",
       "      <td>4.408328</td>\n",
       "      <td>...</td>\n",
       "      <td>12.229711</td>\n",
       "      <td>11.852955</td>\n",
       "      <td>13.658701</td>\n",
       "      <td>13.477698</td>\n",
       "      <td>6.265781</td>\n",
       "      <td>5.016196</td>\n",
       "      <td>4.901594</td>\n",
       "      <td>2.966657</td>\n",
       "      <td>3.508495</td>\n",
       "      <td>3.301999</td>\n",
       "    </tr>\n",
       "    <tr>\n",
       "      <th>1</th>\n",
       "      <td>85</td>\n",
       "      <td>basal</td>\n",
       "      <td>9.861357</td>\n",
       "      <td>8.212222</td>\n",
       "      <td>7.062593</td>\n",
       "      <td>7.685578</td>\n",
       "      <td>3.149468</td>\n",
       "      <td>7.542283</td>\n",
       "      <td>5.129607</td>\n",
       "      <td>4.584418</td>\n",
       "      <td>...</td>\n",
       "      <td>12.178531</td>\n",
       "      <td>11.809408</td>\n",
       "      <td>13.750086</td>\n",
       "      <td>13.470146</td>\n",
       "      <td>6.771853</td>\n",
       "      <td>5.291005</td>\n",
       "      <td>5.405839</td>\n",
       "      <td>2.934763</td>\n",
       "      <td>3.687666</td>\n",
       "      <td>3.064299</td>\n",
       "    </tr>\n",
       "    <tr>\n",
       "      <th>2</th>\n",
       "      <td>87</td>\n",
       "      <td>basal</td>\n",
       "      <td>10.103478</td>\n",
       "      <td>8.936137</td>\n",
       "      <td>5.735970</td>\n",
       "      <td>7.687822</td>\n",
       "      <td>3.125931</td>\n",
       "      <td>6.562369</td>\n",
       "      <td>4.813449</td>\n",
       "      <td>4.425195</td>\n",
       "      <td>...</td>\n",
       "      <td>12.125108</td>\n",
       "      <td>11.725766</td>\n",
       "      <td>13.621732</td>\n",
       "      <td>13.295080</td>\n",
       "      <td>6.346952</td>\n",
       "      <td>5.171403</td>\n",
       "      <td>5.184286</td>\n",
       "      <td>2.847684</td>\n",
       "      <td>3.550597</td>\n",
       "      <td>3.158535</td>\n",
       "    </tr>\n",
       "    <tr>\n",
       "      <th>3</th>\n",
       "      <td>90</td>\n",
       "      <td>basal</td>\n",
       "      <td>9.756875</td>\n",
       "      <td>7.357148</td>\n",
       "      <td>6.479183</td>\n",
       "      <td>6.986624</td>\n",
       "      <td>3.181638</td>\n",
       "      <td>7.802344</td>\n",
       "      <td>5.490982</td>\n",
       "      <td>4.567956</td>\n",
       "      <td>...</td>\n",
       "      <td>12.111235</td>\n",
       "      <td>11.719215</td>\n",
       "      <td>13.743108</td>\n",
       "      <td>13.508861</td>\n",
       "      <td>6.610284</td>\n",
       "      <td>5.193356</td>\n",
       "      <td>5.086569</td>\n",
       "      <td>3.031602</td>\n",
       "      <td>3.524981</td>\n",
       "      <td>3.272665</td>\n",
       "    </tr>\n",
       "    <tr>\n",
       "      <th>4</th>\n",
       "      <td>91</td>\n",
       "      <td>basal</td>\n",
       "      <td>9.408330</td>\n",
       "      <td>7.746404</td>\n",
       "      <td>6.693980</td>\n",
       "      <td>7.333426</td>\n",
       "      <td>3.169923</td>\n",
       "      <td>7.610457</td>\n",
       "      <td>5.372469</td>\n",
       "      <td>4.424426</td>\n",
       "      <td>...</td>\n",
       "      <td>12.173642</td>\n",
       "      <td>11.861296</td>\n",
       "      <td>13.797774</td>\n",
       "      <td>13.542206</td>\n",
       "      <td>6.414354</td>\n",
       "      <td>5.040202</td>\n",
       "      <td>5.235318</td>\n",
       "      <td>2.956232</td>\n",
       "      <td>3.445501</td>\n",
       "      <td>3.193947</td>\n",
       "    </tr>\n",
       "  </tbody>\n",
       "</table>\n",
       "<p>5 rows × 54677 columns</p>\n",
       "</div>"
      ],
      "text/plain": [
       "   samples   type  1007_s_at   1053_at    117_at    121_at  1255_g_at  \\\n",
       "0       84  basal   9.850040  8.097927  6.424728  7.353027   3.029122   \n",
       "1       85  basal   9.861357  8.212222  7.062593  7.685578   3.149468   \n",
       "2       87  basal  10.103478  8.936137  5.735970  7.687822   3.125931   \n",
       "3       90  basal   9.756875  7.357148  6.479183  6.986624   3.181638   \n",
       "4       91  basal   9.408330  7.746404  6.693980  7.333426   3.169923   \n",
       "\n",
       "    1294_at   1316_at   1320_at  ...  AFFX-r2-Ec-bioD-3_at  \\\n",
       "0  6.880079  4.963740  4.408328  ...             12.229711   \n",
       "1  7.542283  5.129607  4.584418  ...             12.178531   \n",
       "2  6.562369  4.813449  4.425195  ...             12.125108   \n",
       "3  7.802344  5.490982  4.567956  ...             12.111235   \n",
       "4  7.610457  5.372469  4.424426  ...             12.173642   \n",
       "\n",
       "   AFFX-r2-Ec-bioD-5_at  AFFX-r2-P1-cre-3_at  AFFX-r2-P1-cre-5_at  \\\n",
       "0             11.852955            13.658701            13.477698   \n",
       "1             11.809408            13.750086            13.470146   \n",
       "2             11.725766            13.621732            13.295080   \n",
       "3             11.719215            13.743108            13.508861   \n",
       "4             11.861296            13.797774            13.542206   \n",
       "\n",
       "   AFFX-ThrX-3_at  AFFX-ThrX-5_at  AFFX-ThrX-M_at  AFFX-TrpnX-3_at  \\\n",
       "0        6.265781        5.016196        4.901594         2.966657   \n",
       "1        6.771853        5.291005        5.405839         2.934763   \n",
       "2        6.346952        5.171403        5.184286         2.847684   \n",
       "3        6.610284        5.193356        5.086569         3.031602   \n",
       "4        6.414354        5.040202        5.235318         2.956232   \n",
       "\n",
       "   AFFX-TrpnX-5_at  AFFX-TrpnX-M_at  \n",
       "0         3.508495         3.301999  \n",
       "1         3.687666         3.064299  \n",
       "2         3.550597         3.158535  \n",
       "3         3.524981         3.272665  \n",
       "4         3.445501         3.193947  \n",
       "\n",
       "[5 rows x 54677 columns]"
      ]
     },
     "execution_count": 2,
     "metadata": {},
     "output_type": "execute_result"
    }
   ],
   "source": [
    "# loading the dataset\n",
    "cancer_df= pd.read_csv('/media/danlof/dan files/data_science_codes/PROJECTS/Breast_GSE45827.csv')\n",
    "cancer_df.head()"
   ]
  },
  {
   "cell_type": "code",
   "execution_count": 3,
   "id": "461cbab0",
   "metadata": {},
   "outputs": [
    {
     "name": "stdout",
     "output_type": "stream",
     "text": [
      "<class 'pandas.core.frame.DataFrame'>\n",
      "RangeIndex: 151 entries, 0 to 150\n",
      "Columns: 54677 entries, samples to AFFX-TrpnX-M_at\n",
      "dtypes: float64(54675), int64(1), object(1)\n",
      "memory usage: 63.0+ MB\n"
     ]
    }
   ],
   "source": [
    "#data types of columns and memory usage\n",
    "cancer_df.info()"
   ]
  },
  {
   "cell_type": "markdown",
   "id": "52c6a332",
   "metadata": {},
   "source": [
    "- used to show the dataframe structure,no. of non-null values,"
   ]
  },
  {
   "cell_type": "code",
   "execution_count": 4,
   "id": "2a89467b",
   "metadata": {},
   "outputs": [
    {
     "data": {
      "text/plain": [
       "basal        41\n",
       "HER          30\n",
       "luminal_B    30\n",
       "luminal_A    29\n",
       "cell_line    14\n",
       "normal        7\n",
       "Name: type, dtype: int64"
      ]
     },
     "execution_count": 4,
     "metadata": {},
     "output_type": "execute_result"
    }
   ],
   "source": [
    "cancer_df.type.value_counts()"
   ]
  },
  {
   "cell_type": "markdown",
   "id": "5452322e",
   "metadata": {},
   "source": [
    "- The above makes us understand more on the subtypes of the breast cancer"
   ]
  },
  {
   "cell_type": "code",
   "execution_count": 5,
   "id": "e4fa04e2",
   "metadata": {},
   "outputs": [
    {
     "data": {
      "text/plain": [
       "0"
      ]
     },
     "execution_count": 5,
     "metadata": {},
     "output_type": "execute_result"
    }
   ],
   "source": [
    "# checking to see if the type column has any missing values \n",
    "cancer_df.type.isnull().sum()"
   ]
  },
  {
   "cell_type": "code",
   "execution_count": 6,
   "id": "8acd4326",
   "metadata": {},
   "outputs": [
    {
     "data": {
      "text/plain": [
       "151"
      ]
     },
     "execution_count": 6,
     "metadata": {},
     "output_type": "execute_result"
    }
   ],
   "source": [
    "len(cancer_df)"
   ]
  },
  {
   "cell_type": "markdown",
   "id": "85da60ad",
   "metadata": {},
   "source": [
    "##### 1. Data preprocessing"
   ]
  },
  {
   "cell_type": "markdown",
   "id": "3dde7097",
   "metadata": {},
   "source": [
    "- This separates the features X from the target variables y"
   ]
  },
  {
   "cell_type": "code",
   "execution_count": 3,
   "id": "8260d498",
   "metadata": {},
   "outputs": [],
   "source": [
    "X,y = cancer_df.drop(columns='type'),cancer_df['type']"
   ]
  },
  {
   "cell_type": "code",
   "execution_count": 4,
   "id": "abcae402",
   "metadata": {},
   "outputs": [],
   "source": [
    "from sklearn.preprocessing import StandardScaler\n",
    "\n",
    "# simplify the scaler for easy usage\n",
    "sc= StandardScaler()\n",
    "\n",
    "# scaling the features in X\n",
    "X_scaled = sc.fit_transform(X)"
   ]
  },
  {
   "cell_type": "markdown",
   "id": "c9424b17",
   "metadata": {},
   "source": [
    "- Performing the linear discriminant analysis"
   ]
  },
  {
   "cell_type": "code",
   "execution_count": 6,
   "id": "a015204a",
   "metadata": {},
   "outputs": [],
   "source": [
    "from sklearn.discriminant_analysis import LinearDiscriminantAnalysis as LDA\n",
    "\n",
    "# set n_components to 5 because we want to classify this data set(c-1)\n",
    "lda= LDA(n_components=5)\n",
    "\n",
    "X_lda= lda.fit_transform(X_scaled,y)"
   ]
  },
  {
   "cell_type": "code",
   "execution_count": 7,
   "id": "a7ca858b",
   "metadata": {},
   "outputs": [
    {
     "name": "stdout",
     "output_type": "stream",
     "text": [
      "(151, 54676)\n"
     ]
    }
   ],
   "source": [
    "print(X_scaled.shape)"
   ]
  },
  {
   "cell_type": "code",
   "execution_count": 7,
   "id": "393c0eb7",
   "metadata": {},
   "outputs": [
    {
     "data": {
      "text/plain": [
       "(151,)"
      ]
     },
     "execution_count": 7,
     "metadata": {},
     "output_type": "execute_result"
    }
   ],
   "source": [
    "y.shape"
   ]
  },
  {
   "cell_type": "markdown",
   "id": "54c4be83",
   "metadata": {},
   "source": [
    "- since we got categorical values we could one encode them(norminal values)we want to perform one-hot encoding on the column name 'type'"
   ]
  },
  {
   "cell_type": "code",
   "execution_count": 8,
   "id": "3b9ac757",
   "metadata": {},
   "outputs": [
    {
     "data": {
      "text/html": [
       "<div>\n",
       "<style scoped>\n",
       "    .dataframe tbody tr th:only-of-type {\n",
       "        vertical-align: middle;\n",
       "    }\n",
       "\n",
       "    .dataframe tbody tr th {\n",
       "        vertical-align: top;\n",
       "    }\n",
       "\n",
       "    .dataframe thead th {\n",
       "        text-align: right;\n",
       "    }\n",
       "</style>\n",
       "<table border=\"1\" class=\"dataframe\">\n",
       "  <thead>\n",
       "    <tr style=\"text-align: right;\">\n",
       "      <th></th>\n",
       "      <th>samples</th>\n",
       "      <th>1007_s_at</th>\n",
       "      <th>1053_at</th>\n",
       "      <th>117_at</th>\n",
       "      <th>121_at</th>\n",
       "      <th>1255_g_at</th>\n",
       "      <th>1294_at</th>\n",
       "      <th>1316_at</th>\n",
       "      <th>1320_at</th>\n",
       "      <th>1405_i_at</th>\n",
       "      <th>...</th>\n",
       "      <th>AFFX-ThrX-M_at</th>\n",
       "      <th>AFFX-TrpnX-3_at</th>\n",
       "      <th>AFFX-TrpnX-5_at</th>\n",
       "      <th>AFFX-TrpnX-M_at</th>\n",
       "      <th>type_HER</th>\n",
       "      <th>type_basal</th>\n",
       "      <th>type_cell_line</th>\n",
       "      <th>type_luminal_A</th>\n",
       "      <th>type_luminal_B</th>\n",
       "      <th>type_normal</th>\n",
       "    </tr>\n",
       "  </thead>\n",
       "  <tbody>\n",
       "    <tr>\n",
       "      <th>0</th>\n",
       "      <td>84</td>\n",
       "      <td>9.850040</td>\n",
       "      <td>8.097927</td>\n",
       "      <td>6.424728</td>\n",
       "      <td>7.353027</td>\n",
       "      <td>3.029122</td>\n",
       "      <td>6.880079</td>\n",
       "      <td>4.963740</td>\n",
       "      <td>4.408328</td>\n",
       "      <td>8.870780</td>\n",
       "      <td>...</td>\n",
       "      <td>4.901594</td>\n",
       "      <td>2.966657</td>\n",
       "      <td>3.508495</td>\n",
       "      <td>3.301999</td>\n",
       "      <td>0</td>\n",
       "      <td>1</td>\n",
       "      <td>0</td>\n",
       "      <td>0</td>\n",
       "      <td>0</td>\n",
       "      <td>0</td>\n",
       "    </tr>\n",
       "    <tr>\n",
       "      <th>1</th>\n",
       "      <td>85</td>\n",
       "      <td>9.861357</td>\n",
       "      <td>8.212222</td>\n",
       "      <td>7.062593</td>\n",
       "      <td>7.685578</td>\n",
       "      <td>3.149468</td>\n",
       "      <td>7.542283</td>\n",
       "      <td>5.129607</td>\n",
       "      <td>4.584418</td>\n",
       "      <td>7.767646</td>\n",
       "      <td>...</td>\n",
       "      <td>5.405839</td>\n",
       "      <td>2.934763</td>\n",
       "      <td>3.687666</td>\n",
       "      <td>3.064299</td>\n",
       "      <td>0</td>\n",
       "      <td>1</td>\n",
       "      <td>0</td>\n",
       "      <td>0</td>\n",
       "      <td>0</td>\n",
       "      <td>0</td>\n",
       "    </tr>\n",
       "    <tr>\n",
       "      <th>2</th>\n",
       "      <td>87</td>\n",
       "      <td>10.103478</td>\n",
       "      <td>8.936137</td>\n",
       "      <td>5.735970</td>\n",
       "      <td>7.687822</td>\n",
       "      <td>3.125931</td>\n",
       "      <td>6.562369</td>\n",
       "      <td>4.813449</td>\n",
       "      <td>4.425195</td>\n",
       "      <td>9.417956</td>\n",
       "      <td>...</td>\n",
       "      <td>5.184286</td>\n",
       "      <td>2.847684</td>\n",
       "      <td>3.550597</td>\n",
       "      <td>3.158535</td>\n",
       "      <td>0</td>\n",
       "      <td>1</td>\n",
       "      <td>0</td>\n",
       "      <td>0</td>\n",
       "      <td>0</td>\n",
       "      <td>0</td>\n",
       "    </tr>\n",
       "    <tr>\n",
       "      <th>3</th>\n",
       "      <td>90</td>\n",
       "      <td>9.756875</td>\n",
       "      <td>7.357148</td>\n",
       "      <td>6.479183</td>\n",
       "      <td>6.986624</td>\n",
       "      <td>3.181638</td>\n",
       "      <td>7.802344</td>\n",
       "      <td>5.490982</td>\n",
       "      <td>4.567956</td>\n",
       "      <td>9.022345</td>\n",
       "      <td>...</td>\n",
       "      <td>5.086569</td>\n",
       "      <td>3.031602</td>\n",
       "      <td>3.524981</td>\n",
       "      <td>3.272665</td>\n",
       "      <td>0</td>\n",
       "      <td>1</td>\n",
       "      <td>0</td>\n",
       "      <td>0</td>\n",
       "      <td>0</td>\n",
       "      <td>0</td>\n",
       "    </tr>\n",
       "    <tr>\n",
       "      <th>4</th>\n",
       "      <td>91</td>\n",
       "      <td>9.408330</td>\n",
       "      <td>7.746404</td>\n",
       "      <td>6.693980</td>\n",
       "      <td>7.333426</td>\n",
       "      <td>3.169923</td>\n",
       "      <td>7.610457</td>\n",
       "      <td>5.372469</td>\n",
       "      <td>4.424426</td>\n",
       "      <td>9.400056</td>\n",
       "      <td>...</td>\n",
       "      <td>5.235318</td>\n",
       "      <td>2.956232</td>\n",
       "      <td>3.445501</td>\n",
       "      <td>3.193947</td>\n",
       "      <td>0</td>\n",
       "      <td>1</td>\n",
       "      <td>0</td>\n",
       "      <td>0</td>\n",
       "      <td>0</td>\n",
       "      <td>0</td>\n",
       "    </tr>\n",
       "  </tbody>\n",
       "</table>\n",
       "<p>5 rows × 54682 columns</p>\n",
       "</div>"
      ],
      "text/plain": [
       "   samples  1007_s_at   1053_at    117_at    121_at  1255_g_at   1294_at  \\\n",
       "0       84   9.850040  8.097927  6.424728  7.353027   3.029122  6.880079   \n",
       "1       85   9.861357  8.212222  7.062593  7.685578   3.149468  7.542283   \n",
       "2       87  10.103478  8.936137  5.735970  7.687822   3.125931  6.562369   \n",
       "3       90   9.756875  7.357148  6.479183  6.986624   3.181638  7.802344   \n",
       "4       91   9.408330  7.746404  6.693980  7.333426   3.169923  7.610457   \n",
       "\n",
       "    1316_at   1320_at  1405_i_at  ...  AFFX-ThrX-M_at  AFFX-TrpnX-3_at  \\\n",
       "0  4.963740  4.408328   8.870780  ...        4.901594         2.966657   \n",
       "1  5.129607  4.584418   7.767646  ...        5.405839         2.934763   \n",
       "2  4.813449  4.425195   9.417956  ...        5.184286         2.847684   \n",
       "3  5.490982  4.567956   9.022345  ...        5.086569         3.031602   \n",
       "4  5.372469  4.424426   9.400056  ...        5.235318         2.956232   \n",
       "\n",
       "   AFFX-TrpnX-5_at  AFFX-TrpnX-M_at  type_HER  type_basal  type_cell_line  \\\n",
       "0         3.508495         3.301999         0           1               0   \n",
       "1         3.687666         3.064299         0           1               0   \n",
       "2         3.550597         3.158535         0           1               0   \n",
       "3         3.524981         3.272665         0           1               0   \n",
       "4         3.445501         3.193947         0           1               0   \n",
       "\n",
       "   type_luminal_A  type_luminal_B  type_normal  \n",
       "0               0               0            0  \n",
       "1               0               0            0  \n",
       "2               0               0            0  \n",
       "3               0               0            0  \n",
       "4               0               0            0  \n",
       "\n",
       "[5 rows x 54682 columns]"
      ]
     },
     "execution_count": 8,
     "metadata": {},
     "output_type": "execute_result"
    }
   ],
   "source": [
    "from sklearn.preprocessing import OneHotEncoder\n",
    "\n",
    "col=['type']\n",
    "df=pd.get_dummies(cancer_df,columns=col)\n",
    "df.head()"
   ]
  },
  {
   "cell_type": "code",
   "execution_count": 9,
   "id": "3351fb2b",
   "metadata": {},
   "outputs": [],
   "source": [
    "# specify the new y after encoding \n",
    "y_new = df[['type_HER','type_basal','type_cell_line','type_luminal_A','type_luminal_B','type_normal']]"
   ]
  },
  {
   "cell_type": "markdown",
   "id": "a119c333",
   "metadata": {},
   "source": [
    "- divide the data into test and train sets"
   ]
  },
  {
   "cell_type": "code",
   "execution_count": 10,
   "id": "dc977ca4",
   "metadata": {},
   "outputs": [],
   "source": [
    " \n",
    "from sklearn.model_selection import train_test_split\n",
    "# split the dataset in the following subsets for training and testing\n",
    "X_train, X_test, y_train, y_test = train_test_split(X_lda, y_new, \n",
    "                                                 test_size=0.3,stratify=y_new,\n",
    "                                                 random_state=42)"
   ]
  },
  {
   "cell_type": "markdown",
   "id": "7234cf1d",
   "metadata": {},
   "source": [
    "##### 2. Modelling"
   ]
  },
  {
   "cell_type": "markdown",
   "id": "ec888495",
   "metadata": {},
   "source": [
    "- We train a multioutput random forest and a multioutput xgboot model for the above dataset"
   ]
  },
  {
   "cell_type": "code",
   "execution_count": 11,
   "id": "d18766a2",
   "metadata": {},
   "outputs": [
    {
     "name": "stdout",
     "output_type": "stream",
     "text": [
      "Accuracy: 0.72\n",
      "Classification Report:\n",
      "               precision    recall  f1-score   support\n",
      "\n",
      "           0       1.00      0.67      0.80         9\n",
      "           1       0.92      0.85      0.88        13\n",
      "           2       1.00      0.75      0.86         4\n",
      "           3       0.88      0.78      0.82         9\n",
      "           4       1.00      0.44      0.62         9\n",
      "           5       1.00      1.00      1.00         2\n",
      "\n",
      "   micro avg       0.94      0.72      0.81        46\n",
      "   macro avg       0.97      0.75      0.83        46\n",
      "weighted avg       0.95      0.72      0.80        46\n",
      " samples avg       0.72      0.72      0.72        46\n",
      "\n"
     ]
    },
    {
     "name": "stderr",
     "output_type": "stream",
     "text": [
      "/home/danlof/anaconda3/lib/python3.9/site-packages/sklearn/metrics/_classification.py:1318: UndefinedMetricWarning: Precision and F-score are ill-defined and being set to 0.0 in samples with no predicted labels. Use `zero_division` parameter to control this behavior.\n",
      "  _warn_prf(average, modifier, msg_start, len(result))\n"
     ]
    }
   ],
   "source": [
    "from sklearn.ensemble import RandomForestClassifier\n",
    "from sklearn.metrics import roc_auc_score\n",
    "from sklearn.multioutput import MultiOutputClassifier\n",
    "from xgboost import XGBClassifier\n",
    "from sklearn.metrics import accuracy_score, classification_report\n",
    "\n",
    "# train a random forest classifier\n",
    "\n",
    "rfc= RandomForestClassifier(n_estimators=100,random_state=42)\n",
    "# create a multioutput classifier\n",
    "\n",
    "multi= MultiOutputClassifier(rfc)\n",
    "# training\n",
    "multi.fit(X_train,y_train)\n",
    "\n",
    "# make predictions \n",
    "\n",
    "y_pred= multi.predict(X_test)\n",
    "\n",
    "#accuracy score\n",
    "accuracy = accuracy_score(y_test, y_pred)\n",
    "print(f\"Accuracy: {accuracy:.2f}\")\n",
    "\n",
    "\n",
    "# Generate a classification report\n",
    "report = classification_report(y_test, y_pred)\n",
    "print(\"Classification Report:\\n\", report)"
   ]
  },
  {
   "cell_type": "markdown",
   "id": "d8bb0c5b",
   "metadata": {},
   "source": [
    "- most of the classes considering precision and recall, can be seen that most cases are diagonised correctly, expecially those cases that have one of the subtypes of breast cancer.\n",
    "- The above is surported by the f1 scores that are mostly near 1 for most of the classes, indicating a good balance between precision and recall\n",
    "\n",
    "- the micro average provides a global view of the model's performance across all classes and is particularly useful for understanding overall classification performance in multi-class classification scenarios.\n"
   ]
  },
  {
   "cell_type": "code",
   "execution_count": 12,
   "id": "cfbca0ad",
   "metadata": {},
   "outputs": [
    {
     "data": {
      "text/plain": [
       "1.0"
      ]
     },
     "execution_count": 12,
     "metadata": {},
     "output_type": "execute_result"
    }
   ],
   "source": [
    "multi.score(X_train,y_train)"
   ]
  },
  {
   "cell_type": "markdown",
   "id": "fa183afe",
   "metadata": {},
   "source": [
    "- The above gives you the accuracy score of your machine learning model on the training data.which is perfect,the model correctly predicted the target values for all of the samples in the training dataset "
   ]
  },
  {
   "cell_type": "code",
   "execution_count": 13,
   "id": "d02823ce",
   "metadata": {},
   "outputs": [
    {
     "data": {
      "text/plain": [
       "0.8689760564760566"
      ]
     },
     "execution_count": 13,
     "metadata": {},
     "output_type": "execute_result"
    }
   ],
   "source": [
    "auc_y1 =roc_auc_score(y_test,y_pred)\n",
    "auc_y1"
   ]
  },
  {
   "cell_type": "code",
   "execution_count": 14,
   "id": "ea0b8e5c",
   "metadata": {},
   "outputs": [
    {
     "name": "stdout",
     "output_type": "stream",
     "text": [
      "Accuracy: 0.72\n"
     ]
    }
   ],
   "source": [
    "from sklearn.pipeline import Pipeline\n",
    "# checking for the case of XGBoost classifier\n",
    "\n",
    "classifier = MultiOutputClassifier(XGBClassifier())\n",
    "clf = Pipeline([('classify', classifier)\n",
    "               ])\n",
    "\n",
    "#fitting\n",
    "\n",
    "clf.fit(X_train,y_train)\n",
    "\n",
    "#make predictions\n",
    "\n",
    "y_hat=clf.predict(X_test)\n",
    "\n",
    "#accuracy score\n",
    "accuracy = accuracy_score(y_test, y_hat)\n",
    "print(f\"Accuracy: {accuracy:.2f}\")"
   ]
  },
  {
   "cell_type": "code",
   "execution_count": 15,
   "id": "01546f36",
   "metadata": {},
   "outputs": [
    {
     "data": {
      "text/plain": [
       "0.8833207583207584"
      ]
     },
     "execution_count": 15,
     "metadata": {},
     "output_type": "execute_result"
    }
   ],
   "source": [
    "\n",
    "auc_y1 = roc_auc_score(y_test,y_hat)\n",
    "auc_y1"
   ]
  },
  {
   "cell_type": "code",
   "execution_count": 16,
   "id": "3a77e865",
   "metadata": {},
   "outputs": [
    {
     "name": "stdout",
     "output_type": "stream",
     "text": [
      "Classification Report:\n",
      "               precision    recall  f1-score   support\n",
      "\n",
      "           0       0.83      0.56      0.67         9\n",
      "           1       0.92      0.85      0.88        13\n",
      "           2       0.80      1.00      0.89         4\n",
      "           3       0.88      0.78      0.82         9\n",
      "           4       0.83      0.56      0.67         9\n",
      "           5       1.00      1.00      1.00         2\n",
      "\n",
      "   micro avg       0.87      0.74      0.80        46\n",
      "   macro avg       0.88      0.79      0.82        46\n",
      "weighted avg       0.87      0.74      0.79        46\n",
      " samples avg       0.73      0.74      0.73        46\n",
      "\n"
     ]
    },
    {
     "name": "stderr",
     "output_type": "stream",
     "text": [
      "/home/danlof/anaconda3/lib/python3.9/site-packages/sklearn/metrics/_classification.py:1318: UndefinedMetricWarning: Precision and F-score are ill-defined and being set to 0.0 in samples with no predicted labels. Use `zero_division` parameter to control this behavior.\n",
      "  _warn_prf(average, modifier, msg_start, len(result))\n"
     ]
    }
   ],
   "source": [
    "# Generate a classification report\n",
    "report = classification_report(y_test, y_hat)\n",
    "print(\"Classification Report:\\n\", report)"
   ]
  },
  {
   "cell_type": "code",
   "execution_count": 25,
   "id": "8787af57",
   "metadata": {},
   "outputs": [],
   "source": [
    "from matplotlib.colors import ListedColormap\n",
    "\n",
    "def DecisionRegions(X, y, classifier, test_idx=None, resolution=0.2):\n",
    "    \n",
    "    # Setup marker generator and color map\n",
    "    markers = ('o', 's', '^', 'v', '<')\n",
    "    colors = ('red', 'blue', 'lightgreen', 'gray', 'cyan')\n",
    "    cmap = ListedColormap(colors[:len(np.unique(y))])\n",
    "    \n",
    "    # Create a meshgrid for all 5 feature dimensions\n",
    "    x_min, x_max = X[:, 0].min() - 1, X[:, 0].max() + 1\n",
    "    y_min, y_max = X[:, 1].min() - 1, X[:, 1].max() + 1\n",
    "    z_min, z_max = X[:, 2].min() - 1, X[:, 2].max() + 1\n",
    "    w_min, w_max = X[:, 3].min() - 1, X[:, 3].max() + 1\n",
    "    v_min, v_max = X[:, 4].min() - 1, X[:, 4].max() + 1\n",
    "    \n",
    "    xx, yy, zz, ww, vv = np.meshgrid(np.arange(x_min, x_max, resolution),\n",
    "                                     np.arange(y_min, y_max, resolution),\n",
    "                                     np.arange(z_min, z_max, resolution),\n",
    "                                     np.arange(w_min, w_max, resolution),\n",
    "                                     np.arange(v_min, v_max, resolution))\n",
    "    \n",
    "    # Predict the labels for all points in the meshgrid\n",
    "    input_data = np.c_[xx.ravel(), yy.ravel(), zz.ravel(), ww.ravel(), vv.ravel()]  # Assuming 5 features\n",
    "    labels = classifier.predict(input_data)\n",
    "    labels = labels.reshape(xx.shape)\n",
    "    \n",
    "    # Plot the decision regions\n",
    "    plt.contourf(xx, yy, labels, alpha=0.3, cmap=cmap)\n",
    "    \n",
    "    # Set axis limits\n",
    "    plt.xlim(xx.min(), xx.max())\n",
    "    plt.ylim(yy.min(), yy.max())\n",
    "    \n",
    "    # Plot class examples\n",
    "    for idx, cl in enumerate(np.unique(y)):\n",
    "        plt.scatter(x=X[y == cl, 0],\n",
    "                    y=X[y == cl, 1],\n",
    "                    alpha=0.8,\n",
    "                    c=colors[idx],\n",
    "                    marker=markers[idx],\n",
    "                    label=f'Class {cl}',\n",
    "                    edgecolor='black')\n",
    "\n"
   ]
  },
  {
   "cell_type": "code",
   "execution_count": null,
   "id": "87c42174",
   "metadata": {},
   "outputs": [],
   "source": [
    "# plotting the decision regions \n",
    "\n",
    "DecisionRegions(X_train,y_train,classifier=multi )"
   ]
  },
  {
   "cell_type": "markdown",
   "id": "3311e68b",
   "metadata": {},
   "source": [
    "###  Principal componet analysis"
   ]
  },
  {
   "cell_type": "code",
   "execution_count": 15,
   "id": "bdf3793e",
   "metadata": {},
   "outputs": [
    {
     "data": {
      "text/plain": [
       "134"
      ]
     },
     "execution_count": 15,
     "metadata": {},
     "output_type": "execute_result"
    }
   ],
   "source": [
    "# importing necessary libraries\n",
    "\n",
    "from sklearn.decomposition import PCA\n",
    "import matplotlib.pyplot as plt\n",
    "# finding the number of components needed\n",
    "\n",
    "pca = PCA()\n",
    "pca.fit(X_scaled)\n",
    "cumsum = np.cumsum(pca.explained_variance_ratio_)\n",
    "dims = np.argmax(cumsum>=0.97)+1\n",
    "dims"
   ]
  },
  {
   "cell_type": "code",
   "execution_count": 20,
   "id": "fdcf34fa",
   "metadata": {},
   "outputs": [
    {
     "data": {
      "image/png": "[encoded data removed]",
      "text/plain": [
       "<Figure size 1300x700 with 1 Axes>"
      ]
     },
     "metadata": {},
     "output_type": "display_data"
    }
   ],
   "source": [
    "plt.figure(figsize=(13,7))\n",
    "plt.plot(cumsum,linewidth=2)\n",
    "plt.axis([0,500,0,1])\n",
    "plt.xlabel('Dimensions')\n",
    "plt.ylabel('Explained variance')\n",
    "plt.plot([dims,dims],[0,0.97],'k:')\n",
    "plt.plot([0,dims],[0.97,0.97],'k:')\n",
    "plt.plot(dims,0.97,'ko')\n",
    "plt.grid(True)\n",
    "plt.savefig('explained variance ratio plot', dpi=300)\n",
    "plt.show()"
   ]
  },
  {
   "cell_type": "code",
   "execution_count": null,
   "id": "ee6fd301",
   "metadata": {},
   "outputs": [],
   "source": []
  }
 ],
 "metadata": {
  "kernelspec": {
   "display_name": "Python 3 (ipykernel)",
   "language": "python",
   "name": "python3"
  },
  "language_info": {
   "codemirror_mode": {
    "name": "ipython",
    "version": 3
   },
   "file_extension": ".py",
   "mimetype": "text/x-python",
   "name": "python",
   "nbconvert_exporter": "python",
   "pygments_lexer": "ipython3",
   "version": "3.9.13"
  }
 },
 "nbformat": 4,
 "nbformat_minor": 5
}
