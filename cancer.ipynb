{
 "cells": [
  {
   "cell_type": "markdown",
   "id": "4478fb99",
   "metadata": {},
   "source": [
    "##### Introduction "
   ]
  },
  {
   "cell_type": "markdown",
   "id": "37b94761",
   "metadata": {},
   "source": [
    "- This is one of the many datasets from Curated Microarray Database (CuMiDa),solely for machine learning.\n",
    "- The dataset below is a breat cancer gene expression dataset containing the following:\n",
    "\n",
    "    - 6 classes\n",
    "    - 54676 genes\n",
    "    - 151 samples\n"
   ]
  },
  {
   "cell_type": "code",
   "execution_count": 1,
   "id": "2c4db3b3",
   "metadata": {},
   "outputs": [],
   "source": [
    "import pandas as pd\n",
    "import numpy as np"
   ]
  },
  {
   "cell_type": "code",
   "execution_count": 2,
   "id": "4b637663",
   "metadata": {},
   "outputs": [
    {
     "data": {
      "text/html": [
       "<div>\n",
       "<style scoped>\n",
       "    .dataframe tbody tr th:only-of-type {\n",
       "        vertical-align: middle;\n",
       "    }\n",
       "\n",
       "    .dataframe tbody tr th {\n",
       "        vertical-align: top;\n",
       "    }\n",
       "\n",
       "    .dataframe thead th {\n",
       "        text-align: right;\n",
       "    }\n",
       "</style>\n",
       "<table border=\"1\" class=\"dataframe\">\n",
       "  <thead>\n",
       "    <tr style=\"text-align: right;\">\n",
       "      <th></th>\n",
       "      <th>samples</th>\n",
       "      <th>type</th>\n",
       "      <th>1007_s_at</th>\n",
       "      <th>1053_at</th>\n",
       "      <th>117_at</th>\n",
       "      <th>121_at</th>\n",
       "      <th>1255_g_at</th>\n",
       "      <th>1294_at</th>\n",
       "      <th>1316_at</th>\n",
       "      <th>1320_at</th>\n",
       "      <th>...</th>\n",
       "      <th>AFFX-r2-Ec-bioD-3_at</th>\n",
       "      <th>AFFX-r2-Ec-bioD-5_at</th>\n",
       "      <th>AFFX-r2-P1-cre-3_at</th>\n",
       "      <th>AFFX-r2-P1-cre-5_at</th>\n",
       "      <th>AFFX-ThrX-3_at</th>\n",
       "      <th>AFFX-ThrX-5_at</th>\n",
       "      <th>AFFX-ThrX-M_at</th>\n",
       "      <th>AFFX-TrpnX-3_at</th>\n",
       "      <th>AFFX-TrpnX-5_at</th>\n",
       "      <th>AFFX-TrpnX-M_at</th>\n",
       "    </tr>\n",
       "  </thead>\n",
       "  <tbody>\n",
       "    <tr>\n",
       "      <th>0</th>\n",
       "      <td>84</td>\n",
       "      <td>basal</td>\n",
       "      <td>9.850040</td>\n",
       "      <td>8.097927</td>\n",
       "      <td>6.424728</td>\n",
       "      <td>7.353027</td>\n",
       "      <td>3.029122</td>\n",
       "      <td>6.880079</td>\n",
       "      <td>4.963740</td>\n",
       "      <td>4.408328</td>\n",
       "      <td>...</td>\n",
       "      <td>12.229711</td>\n",
       "      <td>11.852955</td>\n",
       "      <td>13.658701</td>\n",
       "      <td>13.477698</td>\n",
       "      <td>6.265781</td>\n",
       "      <td>5.016196</td>\n",
       "      <td>4.901594</td>\n",
       "      <td>2.966657</td>\n",
       "      <td>3.508495</td>\n",
       "      <td>3.301999</td>\n",
       "    </tr>\n",
       "    <tr>\n",
       "      <th>1</th>\n",
       "      <td>85</td>\n",
       "      <td>basal</td>\n",
       "      <td>9.861357</td>\n",
       "      <td>8.212222</td>\n",
       "      <td>7.062593</td>\n",
       "      <td>7.685578</td>\n",
       "      <td>3.149468</td>\n",
       "      <td>7.542283</td>\n",
       "      <td>5.129607</td>\n",
       "      <td>4.584418</td>\n",
       "      <td>...</td>\n",
       "      <td>12.178531</td>\n",
       "      <td>11.809408</td>\n",
       "      <td>13.750086</td>\n",
       "      <td>13.470146</td>\n",
       "      <td>6.771853</td>\n",
       "      <td>5.291005</td>\n",
       "      <td>5.405839</td>\n",
       "      <td>2.934763</td>\n",
       "      <td>3.687666</td>\n",
       "      <td>3.064299</td>\n",
       "    </tr>\n",
       "    <tr>\n",
       "      <th>2</th>\n",
       "      <td>87</td>\n",
       "      <td>basal</td>\n",
       "      <td>10.103478</td>\n",
       "      <td>8.936137</td>\n",
       "      <td>5.735970</td>\n",
       "      <td>7.687822</td>\n",
       "      <td>3.125931</td>\n",
       "      <td>6.562369</td>\n",
       "      <td>4.813449</td>\n",
       "      <td>4.425195</td>\n",
       "      <td>...</td>\n",
       "      <td>12.125108</td>\n",
       "      <td>11.725766</td>\n",
       "      <td>13.621732</td>\n",
       "      <td>13.295080</td>\n",
       "      <td>6.346952</td>\n",
       "      <td>5.171403</td>\n",
       "      <td>5.184286</td>\n",
       "      <td>2.847684</td>\n",
       "      <td>3.550597</td>\n",
       "      <td>3.158535</td>\n",
       "    </tr>\n",
       "    <tr>\n",
       "      <th>3</th>\n",
       "      <td>90</td>\n",
       "      <td>basal</td>\n",
       "      <td>9.756875</td>\n",
       "      <td>7.357148</td>\n",
       "      <td>6.479183</td>\n",
       "      <td>6.986624</td>\n",
       "      <td>3.181638</td>\n",
       "      <td>7.802344</td>\n",
       "      <td>5.490982</td>\n",
       "      <td>4.567956</td>\n",
       "      <td>...</td>\n",
       "      <td>12.111235</td>\n",
       "      <td>11.719215</td>\n",
       "      <td>13.743108</td>\n",
       "      <td>13.508861</td>\n",
       "      <td>6.610284</td>\n",
       "      <td>5.193356</td>\n",
       "      <td>5.086569</td>\n",
       "      <td>3.031602</td>\n",
       "      <td>3.524981</td>\n",
       "      <td>3.272665</td>\n",
       "    </tr>\n",
       "    <tr>\n",
       "      <th>4</th>\n",
       "      <td>91</td>\n",
       "      <td>basal</td>\n",
       "      <td>9.408330</td>\n",
       "      <td>7.746404</td>\n",
       "      <td>6.693980</td>\n",
       "      <td>7.333426</td>\n",
       "      <td>3.169923</td>\n",
       "      <td>7.610457</td>\n",
       "      <td>5.372469</td>\n",
       "      <td>4.424426</td>\n",
       "      <td>...</td>\n",
       "      <td>12.173642</td>\n",
       "      <td>11.861296</td>\n",
       "      <td>13.797774</td>\n",
       "      <td>13.542206</td>\n",
       "      <td>6.414354</td>\n",
       "      <td>5.040202</td>\n",
       "      <td>5.235318</td>\n",
       "      <td>2.956232</td>\n",
       "      <td>3.445501</td>\n",
       "      <td>3.193947</td>\n",
       "    </tr>\n",
       "  </tbody>\n",
       "</table>\n",
       "<p>5 rows × 54677 columns</p>\n",
       "</div>"
      ],
      "text/plain": [
       "   samples   type  1007_s_at   1053_at    117_at    121_at  1255_g_at  \\\n",
       "0       84  basal   9.850040  8.097927  6.424728  7.353027   3.029122   \n",
       "1       85  basal   9.861357  8.212222  7.062593  7.685578   3.149468   \n",
       "2       87  basal  10.103478  8.936137  5.735970  7.687822   3.125931   \n",
       "3       90  basal   9.756875  7.357148  6.479183  6.986624   3.181638   \n",
       "4       91  basal   9.408330  7.746404  6.693980  7.333426   3.169923   \n",
       "\n",
       "    1294_at   1316_at   1320_at  ...  AFFX-r2-Ec-bioD-3_at  \\\n",
       "0  6.880079  4.963740  4.408328  ...             12.229711   \n",
       "1  7.542283  5.129607  4.584418  ...             12.178531   \n",
       "2  6.562369  4.813449  4.425195  ...             12.125108   \n",
       "3  7.802344  5.490982  4.567956  ...             12.111235   \n",
       "4  7.610457  5.372469  4.424426  ...             12.173642   \n",
       "\n",
       "   AFFX-r2-Ec-bioD-5_at  AFFX-r2-P1-cre-3_at  AFFX-r2-P1-cre-5_at  \\\n",
       "0             11.852955            13.658701            13.477698   \n",
       "1             11.809408            13.750086            13.470146   \n",
       "2             11.725766            13.621732            13.295080   \n",
       "3             11.719215            13.743108            13.508861   \n",
       "4             11.861296            13.797774            13.542206   \n",
       "\n",
       "   AFFX-ThrX-3_at  AFFX-ThrX-5_at  AFFX-ThrX-M_at  AFFX-TrpnX-3_at  \\\n",
       "0        6.265781        5.016196        4.901594         2.966657   \n",
       "1        6.771853        5.291005        5.405839         2.934763   \n",
       "2        6.346952        5.171403        5.184286         2.847684   \n",
       "3        6.610284        5.193356        5.086569         3.031602   \n",
       "4        6.414354        5.040202        5.235318         2.956232   \n",
       "\n",
       "   AFFX-TrpnX-5_at  AFFX-TrpnX-M_at  \n",
       "0         3.508495         3.301999  \n",
       "1         3.687666         3.064299  \n",
       "2         3.550597         3.158535  \n",
       "3         3.524981         3.272665  \n",
       "4         3.445501         3.193947  \n",
       "\n",
       "[5 rows x 54677 columns]"
      ]
     },
     "execution_count": 2,
     "metadata": {},
     "output_type": "execute_result"
    }
   ],
   "source": [
    "# loading the dataset\n",
    "cancer_df= pd.read_csv('/media/danlof/dan files/data_science_codes/PROJECTS/Breast_GSE45827.csv')\n",
    "cancer_df.head()"
   ]
  },
  {
   "cell_type": "code",
   "execution_count": 3,
   "id": "461cbab0",
   "metadata": {},
   "outputs": [
    {
     "name": "stdout",
     "output_type": "stream",
     "text": [
      "<class 'pandas.core.frame.DataFrame'>\n",
      "RangeIndex: 151 entries, 0 to 150\n",
      "Columns: 54677 entries, samples to AFFX-TrpnX-M_at\n",
      "dtypes: float64(54675), int64(1), object(1)\n",
      "memory usage: 63.0+ MB\n"
     ]
    }
   ],
   "source": [
    "# used to show the dataframe structure,no. of non-null values,\n",
    "#data types of columns and memory usage\n",
    "cancer_df.info()"
   ]
  },
  {
   "cell_type": "code",
   "execution_count": 4,
   "id": "2a89467b",
   "metadata": {},
   "outputs": [
    {
     "data": {
      "text/plain": [
       "basal        41\n",
       "HER          30\n",
       "luminal_B    30\n",
       "luminal_A    29\n",
       "cell_line    14\n",
       "normal        7\n",
       "Name: type, dtype: int64"
      ]
     },
     "execution_count": 4,
     "metadata": {},
     "output_type": "execute_result"
    }
   ],
   "source": [
    "# Understanding more on the type of the cancer \n",
    "# the breast cancers are group to either one of the following groups\n",
    "# except the normal, with is not a type.\n",
    "\n",
    "cancer_df.type.value_counts()"
   ]
  },
  {
   "cell_type": "code",
   "execution_count": 5,
   "id": "e4fa04e2",
   "metadata": {},
   "outputs": [
    {
     "data": {
      "text/plain": [
       "0"
      ]
     },
     "execution_count": 5,
     "metadata": {},
     "output_type": "execute_result"
    }
   ],
   "source": [
    "# checking to see if the type column has any missing values \n",
    "cancer_df.type.isnull().sum()"
   ]
  },
  {
   "cell_type": "code",
   "execution_count": 14,
   "id": "8acd4326",
   "metadata": {},
   "outputs": [
    {
     "data": {
      "text/plain": [
       "151"
      ]
     },
     "execution_count": 14,
     "metadata": {},
     "output_type": "execute_result"
    }
   ],
   "source": [
    "len(cancer_df)"
   ]
  },
  {
   "cell_type": "code",
   "execution_count": 11,
   "id": "3b9ac757",
   "metadata": {},
   "outputs": [
    {
     "data": {
      "text/html": [
       "<div>\n",
       "<style scoped>\n",
       "    .dataframe tbody tr th:only-of-type {\n",
       "        vertical-align: middle;\n",
       "    }\n",
       "\n",
       "    .dataframe tbody tr th {\n",
       "        vertical-align: top;\n",
       "    }\n",
       "\n",
       "    .dataframe thead th {\n",
       "        text-align: right;\n",
       "    }\n",
       "</style>\n",
       "<table border=\"1\" class=\"dataframe\">\n",
       "  <thead>\n",
       "    <tr style=\"text-align: right;\">\n",
       "      <th></th>\n",
       "      <th>type_HER</th>\n",
       "      <th>type_basal</th>\n",
       "      <th>type_cell_line</th>\n",
       "      <th>type_luminal_A</th>\n",
       "      <th>type_luminal_B</th>\n",
       "      <th>type_normal</th>\n",
       "      <th>samples</th>\n",
       "      <th>1007_s_at</th>\n",
       "      <th>1053_at</th>\n",
       "      <th>117_at</th>\n",
       "      <th>...</th>\n",
       "      <th>AFFX-r2-Ec-bioD-3_at</th>\n",
       "      <th>AFFX-r2-Ec-bioD-5_at</th>\n",
       "      <th>AFFX-r2-P1-cre-3_at</th>\n",
       "      <th>AFFX-r2-P1-cre-5_at</th>\n",
       "      <th>AFFX-ThrX-3_at</th>\n",
       "      <th>AFFX-ThrX-5_at</th>\n",
       "      <th>AFFX-ThrX-M_at</th>\n",
       "      <th>AFFX-TrpnX-3_at</th>\n",
       "      <th>AFFX-TrpnX-5_at</th>\n",
       "      <th>AFFX-TrpnX-M_at</th>\n",
       "    </tr>\n",
       "  </thead>\n",
       "  <tbody>\n",
       "    <tr>\n",
       "      <th>0</th>\n",
       "      <td>0</td>\n",
       "      <td>1</td>\n",
       "      <td>0</td>\n",
       "      <td>0</td>\n",
       "      <td>0</td>\n",
       "      <td>0</td>\n",
       "      <td>84</td>\n",
       "      <td>9.850040</td>\n",
       "      <td>8.097927</td>\n",
       "      <td>6.424728</td>\n",
       "      <td>...</td>\n",
       "      <td>12.229711</td>\n",
       "      <td>11.852955</td>\n",
       "      <td>13.658701</td>\n",
       "      <td>13.477698</td>\n",
       "      <td>6.265781</td>\n",
       "      <td>5.016196</td>\n",
       "      <td>4.901594</td>\n",
       "      <td>2.966657</td>\n",
       "      <td>3.508495</td>\n",
       "      <td>3.301999</td>\n",
       "    </tr>\n",
       "    <tr>\n",
       "      <th>1</th>\n",
       "      <td>0</td>\n",
       "      <td>1</td>\n",
       "      <td>0</td>\n",
       "      <td>0</td>\n",
       "      <td>0</td>\n",
       "      <td>0</td>\n",
       "      <td>85</td>\n",
       "      <td>9.861357</td>\n",
       "      <td>8.212222</td>\n",
       "      <td>7.062593</td>\n",
       "      <td>...</td>\n",
       "      <td>12.178531</td>\n",
       "      <td>11.809408</td>\n",
       "      <td>13.750086</td>\n",
       "      <td>13.470146</td>\n",
       "      <td>6.771853</td>\n",
       "      <td>5.291005</td>\n",
       "      <td>5.405839</td>\n",
       "      <td>2.934763</td>\n",
       "      <td>3.687666</td>\n",
       "      <td>3.064299</td>\n",
       "    </tr>\n",
       "    <tr>\n",
       "      <th>2</th>\n",
       "      <td>0</td>\n",
       "      <td>1</td>\n",
       "      <td>0</td>\n",
       "      <td>0</td>\n",
       "      <td>0</td>\n",
       "      <td>0</td>\n",
       "      <td>87</td>\n",
       "      <td>10.103478</td>\n",
       "      <td>8.936137</td>\n",
       "      <td>5.735970</td>\n",
       "      <td>...</td>\n",
       "      <td>12.125108</td>\n",
       "      <td>11.725766</td>\n",
       "      <td>13.621732</td>\n",
       "      <td>13.295080</td>\n",
       "      <td>6.346952</td>\n",
       "      <td>5.171403</td>\n",
       "      <td>5.184286</td>\n",
       "      <td>2.847684</td>\n",
       "      <td>3.550597</td>\n",
       "      <td>3.158535</td>\n",
       "    </tr>\n",
       "    <tr>\n",
       "      <th>3</th>\n",
       "      <td>0</td>\n",
       "      <td>1</td>\n",
       "      <td>0</td>\n",
       "      <td>0</td>\n",
       "      <td>0</td>\n",
       "      <td>0</td>\n",
       "      <td>90</td>\n",
       "      <td>9.756875</td>\n",
       "      <td>7.357148</td>\n",
       "      <td>6.479183</td>\n",
       "      <td>...</td>\n",
       "      <td>12.111235</td>\n",
       "      <td>11.719215</td>\n",
       "      <td>13.743108</td>\n",
       "      <td>13.508861</td>\n",
       "      <td>6.610284</td>\n",
       "      <td>5.193356</td>\n",
       "      <td>5.086569</td>\n",
       "      <td>3.031602</td>\n",
       "      <td>3.524981</td>\n",
       "      <td>3.272665</td>\n",
       "    </tr>\n",
       "    <tr>\n",
       "      <th>4</th>\n",
       "      <td>0</td>\n",
       "      <td>1</td>\n",
       "      <td>0</td>\n",
       "      <td>0</td>\n",
       "      <td>0</td>\n",
       "      <td>0</td>\n",
       "      <td>91</td>\n",
       "      <td>9.408330</td>\n",
       "      <td>7.746404</td>\n",
       "      <td>6.693980</td>\n",
       "      <td>...</td>\n",
       "      <td>12.173642</td>\n",
       "      <td>11.861296</td>\n",
       "      <td>13.797774</td>\n",
       "      <td>13.542206</td>\n",
       "      <td>6.414354</td>\n",
       "      <td>5.040202</td>\n",
       "      <td>5.235318</td>\n",
       "      <td>2.956232</td>\n",
       "      <td>3.445501</td>\n",
       "      <td>3.193947</td>\n",
       "    </tr>\n",
       "  </tbody>\n",
       "</table>\n",
       "<p>5 rows × 54682 columns</p>\n",
       "</div>"
      ],
      "text/plain": [
       "   type_HER  type_basal  type_cell_line  type_luminal_A  type_luminal_B  \\\n",
       "0         0           1               0               0               0   \n",
       "1         0           1               0               0               0   \n",
       "2         0           1               0               0               0   \n",
       "3         0           1               0               0               0   \n",
       "4         0           1               0               0               0   \n",
       "\n",
       "   type_normal  samples  1007_s_at   1053_at    117_at  ...  \\\n",
       "0            0       84   9.850040  8.097927  6.424728  ...   \n",
       "1            0       85   9.861357  8.212222  7.062593  ...   \n",
       "2            0       87  10.103478  8.936137  5.735970  ...   \n",
       "3            0       90   9.756875  7.357148  6.479183  ...   \n",
       "4            0       91   9.408330  7.746404  6.693980  ...   \n",
       "\n",
       "   AFFX-r2-Ec-bioD-3_at  AFFX-r2-Ec-bioD-5_at  AFFX-r2-P1-cre-3_at  \\\n",
       "0             12.229711             11.852955            13.658701   \n",
       "1             12.178531             11.809408            13.750086   \n",
       "2             12.125108             11.725766            13.621732   \n",
       "3             12.111235             11.719215            13.743108   \n",
       "4             12.173642             11.861296            13.797774   \n",
       "\n",
       "   AFFX-r2-P1-cre-5_at  AFFX-ThrX-3_at  AFFX-ThrX-5_at  AFFX-ThrX-M_at  \\\n",
       "0            13.477698        6.265781        5.016196        4.901594   \n",
       "1            13.470146        6.771853        5.291005        5.405839   \n",
       "2            13.295080        6.346952        5.171403        5.184286   \n",
       "3            13.508861        6.610284        5.193356        5.086569   \n",
       "4            13.542206        6.414354        5.040202        5.235318   \n",
       "\n",
       "   AFFX-TrpnX-3_at  AFFX-TrpnX-5_at  AFFX-TrpnX-M_at  \n",
       "0         2.966657         3.508495         3.301999  \n",
       "1         2.934763         3.687666         3.064299  \n",
       "2         2.847684         3.550597         3.158535  \n",
       "3         3.031602         3.524981         3.272665  \n",
       "4         2.956232         3.445501         3.193947  \n",
       "\n",
       "[5 rows x 54682 columns]"
      ]
     },
     "execution_count": 11,
     "metadata": {},
     "output_type": "execute_result"
    }
   ],
   "source": [
    "from sklearn.preprocessing import OneHotEncoder\n",
    "# drop the type column\n",
    "df=cancer_df.drop('type',axis=1)\n",
    "# since we got categorical values we could one encode them(norminal values)\n",
    "\n",
    "dummy=pd.get_dummies(cancer_df[['type']])\n",
    "\n",
    "# concatenate them \n",
    "cancer= pd.concat([dummy,df],axis=1)\n",
    "cancer.head()\n"
   ]
  },
  {
   "cell_type": "code",
   "execution_count": 60,
   "id": "8260d498",
   "metadata": {},
   "outputs": [],
   "source": [
    "# divide the data into test and train sets \n",
    "from sklearn.model_selection import train_test_split\n",
    "\n",
    "# this separates the features X from the target variables y\n",
    "X,y = cancer.iloc[:,6:].values,cancer.iloc[:,0:6].values\n",
    "\n",
    "# split the dataset in the following subsets for training and testing\n",
    "X_train, X_test, y_train, y_test = train_test_split(X, y, \n",
    "                                                 test_size=0.3,stratify=y,\n",
    "                                                 random_state=0)"
   ]
  },
  {
   "cell_type": "markdown",
   "id": "71d09291",
   "metadata": {},
   "source": [
    "#####  1.Implementing LDA via scikit_learn"
   ]
  },
  {
   "cell_type": "code",
   "execution_count": 61,
   "id": "a015204a",
   "metadata": {},
   "outputs": [],
   "source": [
    "from sklearn.preprocessing import StandardScaler\n",
    "\n",
    "# simplify the scaler for easy usage\n",
    "sc= StandardScaler()\n",
    "\n",
    "#standardizing the train set\n",
    "X_train_std=sc.fit_transform(X_train)\n",
    "\n",
    "# standardize the test dataset\n",
    "X_test_std=sc.transform(X_test)"
   ]
  },
  {
   "cell_type": "code",
   "execution_count": 62,
   "id": "565a1e22",
   "metadata": {},
   "outputs": [],
   "source": [
    "\n",
    "# y_train to 1D array\n",
    "y_t=np.argmax(y_train, axis=1)"
   ]
  },
  {
   "cell_type": "code",
   "execution_count": 63,
   "id": "a7ca858b",
   "metadata": {},
   "outputs": [],
   "source": [
    "from sklearn.discriminant_analysis import LinearDiscriminantAnalysis as LDA\n",
    "\n",
    "# set n_components to 5 because we want to classify this data set(c-1)\n",
    "lda= LDA(n_components=2)\n",
    "\n",
    "X_train_lda= lda.fit_transform(X_train_std,y_t)\n",
    "X_test_lda = lda.transform(X_test)"
   ]
  },
  {
   "cell_type": "code",
   "execution_count": 64,
   "id": "05fe2315",
   "metadata": {},
   "outputs": [
    {
     "name": "stdout",
     "output_type": "stream",
     "text": [
      "Accuracy: 0.39\n",
      "Classification Report:\n",
      "               precision    recall  f1-score   support\n",
      "\n",
      "           0       0.00      0.00      0.00         9\n",
      "           1       0.52      0.92      0.67        13\n",
      "           2       1.00      1.00      1.00         4\n",
      "           3       0.00      0.00      0.00         9\n",
      "           4       0.22      0.22      0.22         9\n",
      "           5       0.00      0.00      0.00         2\n",
      "\n",
      "   micro avg       0.50      0.39      0.44        46\n",
      "   macro avg       0.29      0.36      0.31        46\n",
      "weighted avg       0.28      0.39      0.32        46\n",
      " samples avg       0.39      0.39      0.39        46\n",
      "\n"
     ]
    },
    {
     "name": "stderr",
     "output_type": "stream",
     "text": [
      "/home/danlof/anaconda3/lib/python3.9/site-packages/sklearn/metrics/_classification.py:1248: UndefinedMetricWarning: Precision and F-score are ill-defined and being set to 0.0 in labels with no predicted samples. Use `zero_division` parameter to control this behavior.\n",
      "  _warn_prf(average, modifier, msg_start, len(result))\n",
      "/home/danlof/anaconda3/lib/python3.9/site-packages/sklearn/metrics/_classification.py:1248: UndefinedMetricWarning: Precision and F-score are ill-defined and being set to 0.0 in samples with no predicted labels. Use `zero_division` parameter to control this behavior.\n",
      "  _warn_prf(average, modifier, msg_start, len(result))\n"
     ]
    }
   ],
   "source": [
    "from sklearn.ensemble import RandomForestClassifier\n",
    "from sklearn.multioutput import MultiOutputClassifier\n",
    "from xgboost import XGBClassifier\n",
    "from sklearn.metrics import accuracy_score, classification_report\n",
    "\n",
    "# train a random forest classifier\n",
    "\n",
    "rfc= RandomForestClassifier(n_estimators=200,random_state=0)\n",
    "# create a multioutput classifier\n",
    "\n",
    "multi= MultiOutputClassifier(rfc)\n",
    "# training\n",
    "multi.fit(X_train_lda,y_train)\n",
    "\n",
    "# make predictions \n",
    "\n",
    "y_pred= multi.predict(X_test_lda)\n",
    "\n",
    "#accuracy score\n",
    "accuracy = accuracy_score(y_test, y_pred)\n",
    "print(f\"Accuracy: {accuracy:.2f}\")\n",
    "\n",
    "\n",
    "# Generate a classification report\n",
    "report = classification_report(y_test, y_pred)\n",
    "print(\"Classification Report:\\n\", report)"
   ]
  },
  {
   "cell_type": "code",
   "execution_count": 65,
   "id": "4a834ba2",
   "metadata": {},
   "outputs": [
    {
     "data": {
      "text/plain": [
       "0.6352313852313852"
      ]
     },
     "execution_count": 65,
     "metadata": {},
     "output_type": "execute_result"
    }
   ],
   "source": [
    "auc_y1 = roc_auc_score(y_test,y_pred)\n",
    "auc_y1"
   ]
  },
  {
   "cell_type": "code",
   "execution_count": 66,
   "id": "ea0b8e5c",
   "metadata": {},
   "outputs": [
    {
     "name": "stdout",
     "output_type": "stream",
     "text": [
      "Accuracy: 0.24\n"
     ]
    }
   ],
   "source": [
    "from sklearn.pipeline import Pipeline\n",
    "# checking for the case of XGBoost classifier\n",
    "\n",
    "classifier = MultiOutputClassifier(XGBClassifier())\n",
    "clf = Pipeline([('classify', classifier)\n",
    "               ])\n",
    "\n",
    "#fitting\n",
    "\n",
    "clf.fit(X_train_lda,y_train)\n",
    "\n",
    "#make predictions\n",
    "\n",
    "y_hat=clf.predict(X_test_lda)\n",
    "\n",
    "#accuracy score\n",
    "accuracy = accuracy_score(y_test, y_hat)\n",
    "print(f\"Accuracy: {accuracy:.2f}\")"
   ]
  },
  {
   "cell_type": "code",
   "execution_count": 67,
   "id": "01546f36",
   "metadata": {},
   "outputs": [
    {
     "data": {
      "text/plain": [
       "0.5858043358043358"
      ]
     },
     "execution_count": 67,
     "metadata": {},
     "output_type": "execute_result"
    }
   ],
   "source": [
    "from sklearn.metrics import roc_auc_score\n",
    "auc_y1 = roc_auc_score(y_test,y_hat)\n",
    "auc_y1"
   ]
  },
  {
   "cell_type": "code",
   "execution_count": 68,
   "id": "3a77e865",
   "metadata": {},
   "outputs": [
    {
     "name": "stdout",
     "output_type": "stream",
     "text": [
      "Classification Report:\n",
      "               precision    recall  f1-score   support\n",
      "\n",
      "           0       0.00      0.00      0.00         9\n",
      "           1       0.40      0.46      0.43        13\n",
      "           2       1.00      1.00      1.00         4\n",
      "           3       0.00      0.00      0.00         9\n",
      "           4       0.10      0.11      0.11         9\n",
      "           5       0.00      0.00      0.00         2\n",
      "\n",
      "   micro avg       0.37      0.24      0.29        46\n",
      "   macro avg       0.25      0.26      0.26        46\n",
      "weighted avg       0.22      0.24      0.23        46\n",
      " samples avg       0.24      0.24      0.24        46\n",
      "\n"
     ]
    },
    {
     "name": "stderr",
     "output_type": "stream",
     "text": [
      "/home/danlof/anaconda3/lib/python3.9/site-packages/sklearn/metrics/_classification.py:1248: UndefinedMetricWarning: Precision and F-score are ill-defined and being set to 0.0 in labels with no predicted samples. Use `zero_division` parameter to control this behavior.\n",
      "  _warn_prf(average, modifier, msg_start, len(result))\n",
      "/home/danlof/anaconda3/lib/python3.9/site-packages/sklearn/metrics/_classification.py:1248: UndefinedMetricWarning: Precision and F-score are ill-defined and being set to 0.0 in samples with no predicted labels. Use `zero_division` parameter to control this behavior.\n",
      "  _warn_prf(average, modifier, msg_start, len(result))\n"
     ]
    }
   ],
   "source": [
    "# Generate a classification report\n",
    "report = classification_report(y_test, y_hat)\n",
    "print(\"Classification Report:\\n\", report)"
   ]
  },
  {
   "cell_type": "code",
   "execution_count": null,
   "id": "aad1e816",
   "metadata": {},
   "outputs": [],
   "source": []
  }
 ],
 "metadata": {
  "kernelspec": {
   "display_name": "Python 3 (ipykernel)",
   "language": "python",
   "name": "python3"
  },
  "language_info": {
   "codemirror_mode": {
    "name": "ipython",
    "version": 3
   },
   "file_extension": ".py",
   "mimetype": "text/x-python",
   "name": "python",
   "nbconvert_exporter": "python",
   "pygments_lexer": "ipython3",
   "version": "3.9.13"
  }
 },
 "nbformat": 4,
 "nbformat_minor": 5
}
